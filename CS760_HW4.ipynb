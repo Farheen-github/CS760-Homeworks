{
  "nbformat": 4,
  "nbformat_minor": 0,
  "metadata": {
    "colab": {
      "provenance": []
    },
    "kernelspec": {
      "name": "python3",
      "display_name": "Python 3"
    },
    "language_info": {
      "name": "python"
    },
    "accelerator": "GPU",
    "gpuClass": "standard",
    "widgets": {
      "application/vnd.jupyter.widget-state+json": {
        "6aaec473005c461f81ecde24b40f65db": {
          "model_module": "@jupyter-widgets/controls",
          "model_name": "HBoxModel",
          "model_module_version": "1.5.0",
          "state": {
            "_dom_classes": [],
            "_model_module": "@jupyter-widgets/controls",
            "_model_module_version": "1.5.0",
            "_model_name": "HBoxModel",
            "_view_count": null,
            "_view_module": "@jupyter-widgets/controls",
            "_view_module_version": "1.5.0",
            "_view_name": "HBoxView",
            "box_style": "",
            "children": [
              "IPY_MODEL_804f70cf82e442fe8ad9efd8a7f5061e",
              "IPY_MODEL_3155409cccee4d6289fdd2f93dbcb575",
              "IPY_MODEL_a34d2324984141ec9c08f0b1c83bf789"
            ],
            "layout": "IPY_MODEL_0e7332ee182e4e5c919b4ea905253008"
          }
        },
        "804f70cf82e442fe8ad9efd8a7f5061e": {
          "model_module": "@jupyter-widgets/controls",
          "model_name": "HTMLModel",
          "model_module_version": "1.5.0",
          "state": {
            "_dom_classes": [],
            "_model_module": "@jupyter-widgets/controls",
            "_model_module_version": "1.5.0",
            "_model_name": "HTMLModel",
            "_view_count": null,
            "_view_module": "@jupyter-widgets/controls",
            "_view_module_version": "1.5.0",
            "_view_name": "HTMLView",
            "description": "",
            "description_tooltip": null,
            "layout": "IPY_MODEL_e760aa5274cd4034aed3f26ef22062f9",
            "placeholder": "​",
            "style": "IPY_MODEL_615894081454498b9bc8ad6d3b1be042",
            "value": "100%"
          }
        },
        "3155409cccee4d6289fdd2f93dbcb575": {
          "model_module": "@jupyter-widgets/controls",
          "model_name": "FloatProgressModel",
          "model_module_version": "1.5.0",
          "state": {
            "_dom_classes": [],
            "_model_module": "@jupyter-widgets/controls",
            "_model_module_version": "1.5.0",
            "_model_name": "FloatProgressModel",
            "_view_count": null,
            "_view_module": "@jupyter-widgets/controls",
            "_view_module_version": "1.5.0",
            "_view_name": "ProgressView",
            "bar_style": "success",
            "description": "",
            "description_tooltip": null,
            "layout": "IPY_MODEL_47fe4ee9de534f269c601f6c53facc63",
            "max": 9912422,
            "min": 0,
            "orientation": "horizontal",
            "style": "IPY_MODEL_53ee476e52bc41a184e380848bc32668",
            "value": 9912422
          }
        },
        "a34d2324984141ec9c08f0b1c83bf789": {
          "model_module": "@jupyter-widgets/controls",
          "model_name": "HTMLModel",
          "model_module_version": "1.5.0",
          "state": {
            "_dom_classes": [],
            "_model_module": "@jupyter-widgets/controls",
            "_model_module_version": "1.5.0",
            "_model_name": "HTMLModel",
            "_view_count": null,
            "_view_module": "@jupyter-widgets/controls",
            "_view_module_version": "1.5.0",
            "_view_name": "HTMLView",
            "description": "",
            "description_tooltip": null,
            "layout": "IPY_MODEL_477ebe4a1d3943c293a4b8132c333ddd",
            "placeholder": "​",
            "style": "IPY_MODEL_069acb74dbeb4f2a882376f196c5bbcf",
            "value": " 9912422/9912422 [00:00&lt;00:00, 178297258.13it/s]"
          }
        },
        "0e7332ee182e4e5c919b4ea905253008": {
          "model_module": "@jupyter-widgets/base",
          "model_name": "LayoutModel",
          "model_module_version": "1.2.0",
          "state": {
            "_model_module": "@jupyter-widgets/base",
            "_model_module_version": "1.2.0",
            "_model_name": "LayoutModel",
            "_view_count": null,
            "_view_module": "@jupyter-widgets/base",
            "_view_module_version": "1.2.0",
            "_view_name": "LayoutView",
            "align_content": null,
            "align_items": null,
            "align_self": null,
            "border": null,
            "bottom": null,
            "display": null,
            "flex": null,
            "flex_flow": null,
            "grid_area": null,
            "grid_auto_columns": null,
            "grid_auto_flow": null,
            "grid_auto_rows": null,
            "grid_column": null,
            "grid_gap": null,
            "grid_row": null,
            "grid_template_areas": null,
            "grid_template_columns": null,
            "grid_template_rows": null,
            "height": null,
            "justify_content": null,
            "justify_items": null,
            "left": null,
            "margin": null,
            "max_height": null,
            "max_width": null,
            "min_height": null,
            "min_width": null,
            "object_fit": null,
            "object_position": null,
            "order": null,
            "overflow": null,
            "overflow_x": null,
            "overflow_y": null,
            "padding": null,
            "right": null,
            "top": null,
            "visibility": null,
            "width": null
          }
        },
        "e760aa5274cd4034aed3f26ef22062f9": {
          "model_module": "@jupyter-widgets/base",
          "model_name": "LayoutModel",
          "model_module_version": "1.2.0",
          "state": {
            "_model_module": "@jupyter-widgets/base",
            "_model_module_version": "1.2.0",
            "_model_name": "LayoutModel",
            "_view_count": null,
            "_view_module": "@jupyter-widgets/base",
            "_view_module_version": "1.2.0",
            "_view_name": "LayoutView",
            "align_content": null,
            "align_items": null,
            "align_self": null,
            "border": null,
            "bottom": null,
            "display": null,
            "flex": null,
            "flex_flow": null,
            "grid_area": null,
            "grid_auto_columns": null,
            "grid_auto_flow": null,
            "grid_auto_rows": null,
            "grid_column": null,
            "grid_gap": null,
            "grid_row": null,
            "grid_template_areas": null,
            "grid_template_columns": null,
            "grid_template_rows": null,
            "height": null,
            "justify_content": null,
            "justify_items": null,
            "left": null,
            "margin": null,
            "max_height": null,
            "max_width": null,
            "min_height": null,
            "min_width": null,
            "object_fit": null,
            "object_position": null,
            "order": null,
            "overflow": null,
            "overflow_x": null,
            "overflow_y": null,
            "padding": null,
            "right": null,
            "top": null,
            "visibility": null,
            "width": null
          }
        },
        "615894081454498b9bc8ad6d3b1be042": {
          "model_module": "@jupyter-widgets/controls",
          "model_name": "DescriptionStyleModel",
          "model_module_version": "1.5.0",
          "state": {
            "_model_module": "@jupyter-widgets/controls",
            "_model_module_version": "1.5.0",
            "_model_name": "DescriptionStyleModel",
            "_view_count": null,
            "_view_module": "@jupyter-widgets/base",
            "_view_module_version": "1.2.0",
            "_view_name": "StyleView",
            "description_width": ""
          }
        },
        "47fe4ee9de534f269c601f6c53facc63": {
          "model_module": "@jupyter-widgets/base",
          "model_name": "LayoutModel",
          "model_module_version": "1.2.0",
          "state": {
            "_model_module": "@jupyter-widgets/base",
            "_model_module_version": "1.2.0",
            "_model_name": "LayoutModel",
            "_view_count": null,
            "_view_module": "@jupyter-widgets/base",
            "_view_module_version": "1.2.0",
            "_view_name": "LayoutView",
            "align_content": null,
            "align_items": null,
            "align_self": null,
            "border": null,
            "bottom": null,
            "display": null,
            "flex": null,
            "flex_flow": null,
            "grid_area": null,
            "grid_auto_columns": null,
            "grid_auto_flow": null,
            "grid_auto_rows": null,
            "grid_column": null,
            "grid_gap": null,
            "grid_row": null,
            "grid_template_areas": null,
            "grid_template_columns": null,
            "grid_template_rows": null,
            "height": null,
            "justify_content": null,
            "justify_items": null,
            "left": null,
            "margin": null,
            "max_height": null,
            "max_width": null,
            "min_height": null,
            "min_width": null,
            "object_fit": null,
            "object_position": null,
            "order": null,
            "overflow": null,
            "overflow_x": null,
            "overflow_y": null,
            "padding": null,
            "right": null,
            "top": null,
            "visibility": null,
            "width": null
          }
        },
        "53ee476e52bc41a184e380848bc32668": {
          "model_module": "@jupyter-widgets/controls",
          "model_name": "ProgressStyleModel",
          "model_module_version": "1.5.0",
          "state": {
            "_model_module": "@jupyter-widgets/controls",
            "_model_module_version": "1.5.0",
            "_model_name": "ProgressStyleModel",
            "_view_count": null,
            "_view_module": "@jupyter-widgets/base",
            "_view_module_version": "1.2.0",
            "_view_name": "StyleView",
            "bar_color": null,
            "description_width": ""
          }
        },
        "477ebe4a1d3943c293a4b8132c333ddd": {
          "model_module": "@jupyter-widgets/base",
          "model_name": "LayoutModel",
          "model_module_version": "1.2.0",
          "state": {
            "_model_module": "@jupyter-widgets/base",
            "_model_module_version": "1.2.0",
            "_model_name": "LayoutModel",
            "_view_count": null,
            "_view_module": "@jupyter-widgets/base",
            "_view_module_version": "1.2.0",
            "_view_name": "LayoutView",
            "align_content": null,
            "align_items": null,
            "align_self": null,
            "border": null,
            "bottom": null,
            "display": null,
            "flex": null,
            "flex_flow": null,
            "grid_area": null,
            "grid_auto_columns": null,
            "grid_auto_flow": null,
            "grid_auto_rows": null,
            "grid_column": null,
            "grid_gap": null,
            "grid_row": null,
            "grid_template_areas": null,
            "grid_template_columns": null,
            "grid_template_rows": null,
            "height": null,
            "justify_content": null,
            "justify_items": null,
            "left": null,
            "margin": null,
            "max_height": null,
            "max_width": null,
            "min_height": null,
            "min_width": null,
            "object_fit": null,
            "object_position": null,
            "order": null,
            "overflow": null,
            "overflow_x": null,
            "overflow_y": null,
            "padding": null,
            "right": null,
            "top": null,
            "visibility": null,
            "width": null
          }
        },
        "069acb74dbeb4f2a882376f196c5bbcf": {
          "model_module": "@jupyter-widgets/controls",
          "model_name": "DescriptionStyleModel",
          "model_module_version": "1.5.0",
          "state": {
            "_model_module": "@jupyter-widgets/controls",
            "_model_module_version": "1.5.0",
            "_model_name": "DescriptionStyleModel",
            "_view_count": null,
            "_view_module": "@jupyter-widgets/base",
            "_view_module_version": "1.2.0",
            "_view_name": "StyleView",
            "description_width": ""
          }
        },
        "b4cd4fce759040199c7abbf5d2e0a2fa": {
          "model_module": "@jupyter-widgets/controls",
          "model_name": "HBoxModel",
          "model_module_version": "1.5.0",
          "state": {
            "_dom_classes": [],
            "_model_module": "@jupyter-widgets/controls",
            "_model_module_version": "1.5.0",
            "_model_name": "HBoxModel",
            "_view_count": null,
            "_view_module": "@jupyter-widgets/controls",
            "_view_module_version": "1.5.0",
            "_view_name": "HBoxView",
            "box_style": "",
            "children": [
              "IPY_MODEL_9d3f34119d704177a497509787ddf122",
              "IPY_MODEL_3aa87f9a62854ea7b0c5d938cf80f711",
              "IPY_MODEL_cb6183aecbd5478482622b471cd285e4"
            ],
            "layout": "IPY_MODEL_dd0e2f33687243dbafe0d0a7621069eb"
          }
        },
        "9d3f34119d704177a497509787ddf122": {
          "model_module": "@jupyter-widgets/controls",
          "model_name": "HTMLModel",
          "model_module_version": "1.5.0",
          "state": {
            "_dom_classes": [],
            "_model_module": "@jupyter-widgets/controls",
            "_model_module_version": "1.5.0",
            "_model_name": "HTMLModel",
            "_view_count": null,
            "_view_module": "@jupyter-widgets/controls",
            "_view_module_version": "1.5.0",
            "_view_name": "HTMLView",
            "description": "",
            "description_tooltip": null,
            "layout": "IPY_MODEL_5830ba1e8f9c47a6a4b25c8ba7355f9e",
            "placeholder": "​",
            "style": "IPY_MODEL_67d18613b30040e7b07b0b49fd5521a5",
            "value": "100%"
          }
        },
        "3aa87f9a62854ea7b0c5d938cf80f711": {
          "model_module": "@jupyter-widgets/controls",
          "model_name": "FloatProgressModel",
          "model_module_version": "1.5.0",
          "state": {
            "_dom_classes": [],
            "_model_module": "@jupyter-widgets/controls",
            "_model_module_version": "1.5.0",
            "_model_name": "FloatProgressModel",
            "_view_count": null,
            "_view_module": "@jupyter-widgets/controls",
            "_view_module_version": "1.5.0",
            "_view_name": "ProgressView",
            "bar_style": "success",
            "description": "",
            "description_tooltip": null,
            "layout": "IPY_MODEL_1e0aa1cd83ca4f59ad76b2155bdfbb35",
            "max": 28881,
            "min": 0,
            "orientation": "horizontal",
            "style": "IPY_MODEL_065dcf2c9457464bb5dac9d36f26a0de",
            "value": 28881
          }
        },
        "cb6183aecbd5478482622b471cd285e4": {
          "model_module": "@jupyter-widgets/controls",
          "model_name": "HTMLModel",
          "model_module_version": "1.5.0",
          "state": {
            "_dom_classes": [],
            "_model_module": "@jupyter-widgets/controls",
            "_model_module_version": "1.5.0",
            "_model_name": "HTMLModel",
            "_view_count": null,
            "_view_module": "@jupyter-widgets/controls",
            "_view_module_version": "1.5.0",
            "_view_name": "HTMLView",
            "description": "",
            "description_tooltip": null,
            "layout": "IPY_MODEL_3e74600dbe9445a2b1e8e57294a47724",
            "placeholder": "​",
            "style": "IPY_MODEL_efd74b547ece4f0ca8ddcc8885bb3dfa",
            "value": " 28881/28881 [00:00&lt;00:00, 1523930.28it/s]"
          }
        },
        "dd0e2f33687243dbafe0d0a7621069eb": {
          "model_module": "@jupyter-widgets/base",
          "model_name": "LayoutModel",
          "model_module_version": "1.2.0",
          "state": {
            "_model_module": "@jupyter-widgets/base",
            "_model_module_version": "1.2.0",
            "_model_name": "LayoutModel",
            "_view_count": null,
            "_view_module": "@jupyter-widgets/base",
            "_view_module_version": "1.2.0",
            "_view_name": "LayoutView",
            "align_content": null,
            "align_items": null,
            "align_self": null,
            "border": null,
            "bottom": null,
            "display": null,
            "flex": null,
            "flex_flow": null,
            "grid_area": null,
            "grid_auto_columns": null,
            "grid_auto_flow": null,
            "grid_auto_rows": null,
            "grid_column": null,
            "grid_gap": null,
            "grid_row": null,
            "grid_template_areas": null,
            "grid_template_columns": null,
            "grid_template_rows": null,
            "height": null,
            "justify_content": null,
            "justify_items": null,
            "left": null,
            "margin": null,
            "max_height": null,
            "max_width": null,
            "min_height": null,
            "min_width": null,
            "object_fit": null,
            "object_position": null,
            "order": null,
            "overflow": null,
            "overflow_x": null,
            "overflow_y": null,
            "padding": null,
            "right": null,
            "top": null,
            "visibility": null,
            "width": null
          }
        },
        "5830ba1e8f9c47a6a4b25c8ba7355f9e": {
          "model_module": "@jupyter-widgets/base",
          "model_name": "LayoutModel",
          "model_module_version": "1.2.0",
          "state": {
            "_model_module": "@jupyter-widgets/base",
            "_model_module_version": "1.2.0",
            "_model_name": "LayoutModel",
            "_view_count": null,
            "_view_module": "@jupyter-widgets/base",
            "_view_module_version": "1.2.0",
            "_view_name": "LayoutView",
            "align_content": null,
            "align_items": null,
            "align_self": null,
            "border": null,
            "bottom": null,
            "display": null,
            "flex": null,
            "flex_flow": null,
            "grid_area": null,
            "grid_auto_columns": null,
            "grid_auto_flow": null,
            "grid_auto_rows": null,
            "grid_column": null,
            "grid_gap": null,
            "grid_row": null,
            "grid_template_areas": null,
            "grid_template_columns": null,
            "grid_template_rows": null,
            "height": null,
            "justify_content": null,
            "justify_items": null,
            "left": null,
            "margin": null,
            "max_height": null,
            "max_width": null,
            "min_height": null,
            "min_width": null,
            "object_fit": null,
            "object_position": null,
            "order": null,
            "overflow": null,
            "overflow_x": null,
            "overflow_y": null,
            "padding": null,
            "right": null,
            "top": null,
            "visibility": null,
            "width": null
          }
        },
        "67d18613b30040e7b07b0b49fd5521a5": {
          "model_module": "@jupyter-widgets/controls",
          "model_name": "DescriptionStyleModel",
          "model_module_version": "1.5.0",
          "state": {
            "_model_module": "@jupyter-widgets/controls",
            "_model_module_version": "1.5.0",
            "_model_name": "DescriptionStyleModel",
            "_view_count": null,
            "_view_module": "@jupyter-widgets/base",
            "_view_module_version": "1.2.0",
            "_view_name": "StyleView",
            "description_width": ""
          }
        },
        "1e0aa1cd83ca4f59ad76b2155bdfbb35": {
          "model_module": "@jupyter-widgets/base",
          "model_name": "LayoutModel",
          "model_module_version": "1.2.0",
          "state": {
            "_model_module": "@jupyter-widgets/base",
            "_model_module_version": "1.2.0",
            "_model_name": "LayoutModel",
            "_view_count": null,
            "_view_module": "@jupyter-widgets/base",
            "_view_module_version": "1.2.0",
            "_view_name": "LayoutView",
            "align_content": null,
            "align_items": null,
            "align_self": null,
            "border": null,
            "bottom": null,
            "display": null,
            "flex": null,
            "flex_flow": null,
            "grid_area": null,
            "grid_auto_columns": null,
            "grid_auto_flow": null,
            "grid_auto_rows": null,
            "grid_column": null,
            "grid_gap": null,
            "grid_row": null,
            "grid_template_areas": null,
            "grid_template_columns": null,
            "grid_template_rows": null,
            "height": null,
            "justify_content": null,
            "justify_items": null,
            "left": null,
            "margin": null,
            "max_height": null,
            "max_width": null,
            "min_height": null,
            "min_width": null,
            "object_fit": null,
            "object_position": null,
            "order": null,
            "overflow": null,
            "overflow_x": null,
            "overflow_y": null,
            "padding": null,
            "right": null,
            "top": null,
            "visibility": null,
            "width": null
          }
        },
        "065dcf2c9457464bb5dac9d36f26a0de": {
          "model_module": "@jupyter-widgets/controls",
          "model_name": "ProgressStyleModel",
          "model_module_version": "1.5.0",
          "state": {
            "_model_module": "@jupyter-widgets/controls",
            "_model_module_version": "1.5.0",
            "_model_name": "ProgressStyleModel",
            "_view_count": null,
            "_view_module": "@jupyter-widgets/base",
            "_view_module_version": "1.2.0",
            "_view_name": "StyleView",
            "bar_color": null,
            "description_width": ""
          }
        },
        "3e74600dbe9445a2b1e8e57294a47724": {
          "model_module": "@jupyter-widgets/base",
          "model_name": "LayoutModel",
          "model_module_version": "1.2.0",
          "state": {
            "_model_module": "@jupyter-widgets/base",
            "_model_module_version": "1.2.0",
            "_model_name": "LayoutModel",
            "_view_count": null,
            "_view_module": "@jupyter-widgets/base",
            "_view_module_version": "1.2.0",
            "_view_name": "LayoutView",
            "align_content": null,
            "align_items": null,
            "align_self": null,
            "border": null,
            "bottom": null,
            "display": null,
            "flex": null,
            "flex_flow": null,
            "grid_area": null,
            "grid_auto_columns": null,
            "grid_auto_flow": null,
            "grid_auto_rows": null,
            "grid_column": null,
            "grid_gap": null,
            "grid_row": null,
            "grid_template_areas": null,
            "grid_template_columns": null,
            "grid_template_rows": null,
            "height": null,
            "justify_content": null,
            "justify_items": null,
            "left": null,
            "margin": null,
            "max_height": null,
            "max_width": null,
            "min_height": null,
            "min_width": null,
            "object_fit": null,
            "object_position": null,
            "order": null,
            "overflow": null,
            "overflow_x": null,
            "overflow_y": null,
            "padding": null,
            "right": null,
            "top": null,
            "visibility": null,
            "width": null
          }
        },
        "efd74b547ece4f0ca8ddcc8885bb3dfa": {
          "model_module": "@jupyter-widgets/controls",
          "model_name": "DescriptionStyleModel",
          "model_module_version": "1.5.0",
          "state": {
            "_model_module": "@jupyter-widgets/controls",
            "_model_module_version": "1.5.0",
            "_model_name": "DescriptionStyleModel",
            "_view_count": null,
            "_view_module": "@jupyter-widgets/base",
            "_view_module_version": "1.2.0",
            "_view_name": "StyleView",
            "description_width": ""
          }
        },
        "10815d9ee1e34d3f829bc5bfc8086dd1": {
          "model_module": "@jupyter-widgets/controls",
          "model_name": "HBoxModel",
          "model_module_version": "1.5.0",
          "state": {
            "_dom_classes": [],
            "_model_module": "@jupyter-widgets/controls",
            "_model_module_version": "1.5.0",
            "_model_name": "HBoxModel",
            "_view_count": null,
            "_view_module": "@jupyter-widgets/controls",
            "_view_module_version": "1.5.0",
            "_view_name": "HBoxView",
            "box_style": "",
            "children": [
              "IPY_MODEL_dbb628bb054c45a1be00d48b8f9f59fe",
              "IPY_MODEL_2c93932bc35842999135b0a71f8f5f99",
              "IPY_MODEL_9dc05354a24d47a4b61eb82dcb0fc0de"
            ],
            "layout": "IPY_MODEL_fa6ce393564341c5938b4b52393cfbb1"
          }
        },
        "dbb628bb054c45a1be00d48b8f9f59fe": {
          "model_module": "@jupyter-widgets/controls",
          "model_name": "HTMLModel",
          "model_module_version": "1.5.0",
          "state": {
            "_dom_classes": [],
            "_model_module": "@jupyter-widgets/controls",
            "_model_module_version": "1.5.0",
            "_model_name": "HTMLModel",
            "_view_count": null,
            "_view_module": "@jupyter-widgets/controls",
            "_view_module_version": "1.5.0",
            "_view_name": "HTMLView",
            "description": "",
            "description_tooltip": null,
            "layout": "IPY_MODEL_26183a2ebb4e47809d4bf11655e6ce95",
            "placeholder": "​",
            "style": "IPY_MODEL_5ed1bb7fe0b04a58a352edc5515c1c9a",
            "value": "100%"
          }
        },
        "2c93932bc35842999135b0a71f8f5f99": {
          "model_module": "@jupyter-widgets/controls",
          "model_name": "FloatProgressModel",
          "model_module_version": "1.5.0",
          "state": {
            "_dom_classes": [],
            "_model_module": "@jupyter-widgets/controls",
            "_model_module_version": "1.5.0",
            "_model_name": "FloatProgressModel",
            "_view_count": null,
            "_view_module": "@jupyter-widgets/controls",
            "_view_module_version": "1.5.0",
            "_view_name": "ProgressView",
            "bar_style": "success",
            "description": "",
            "description_tooltip": null,
            "layout": "IPY_MODEL_bb97223f0d1547389c320dba4fb52a27",
            "max": 1648877,
            "min": 0,
            "orientation": "horizontal",
            "style": "IPY_MODEL_de481813e42e4be8aee89b88f534f9ff",
            "value": 1648877
          }
        },
        "9dc05354a24d47a4b61eb82dcb0fc0de": {
          "model_module": "@jupyter-widgets/controls",
          "model_name": "HTMLModel",
          "model_module_version": "1.5.0",
          "state": {
            "_dom_classes": [],
            "_model_module": "@jupyter-widgets/controls",
            "_model_module_version": "1.5.0",
            "_model_name": "HTMLModel",
            "_view_count": null,
            "_view_module": "@jupyter-widgets/controls",
            "_view_module_version": "1.5.0",
            "_view_name": "HTMLView",
            "description": "",
            "description_tooltip": null,
            "layout": "IPY_MODEL_f626b9b5ae3c4324b950497452a4f7e6",
            "placeholder": "​",
            "style": "IPY_MODEL_8f15b5da56494f4aab87279f69828b86",
            "value": " 1648877/1648877 [00:00&lt;00:00, 57158489.17it/s]"
          }
        },
        "fa6ce393564341c5938b4b52393cfbb1": {
          "model_module": "@jupyter-widgets/base",
          "model_name": "LayoutModel",
          "model_module_version": "1.2.0",
          "state": {
            "_model_module": "@jupyter-widgets/base",
            "_model_module_version": "1.2.0",
            "_model_name": "LayoutModel",
            "_view_count": null,
            "_view_module": "@jupyter-widgets/base",
            "_view_module_version": "1.2.0",
            "_view_name": "LayoutView",
            "align_content": null,
            "align_items": null,
            "align_self": null,
            "border": null,
            "bottom": null,
            "display": null,
            "flex": null,
            "flex_flow": null,
            "grid_area": null,
            "grid_auto_columns": null,
            "grid_auto_flow": null,
            "grid_auto_rows": null,
            "grid_column": null,
            "grid_gap": null,
            "grid_row": null,
            "grid_template_areas": null,
            "grid_template_columns": null,
            "grid_template_rows": null,
            "height": null,
            "justify_content": null,
            "justify_items": null,
            "left": null,
            "margin": null,
            "max_height": null,
            "max_width": null,
            "min_height": null,
            "min_width": null,
            "object_fit": null,
            "object_position": null,
            "order": null,
            "overflow": null,
            "overflow_x": null,
            "overflow_y": null,
            "padding": null,
            "right": null,
            "top": null,
            "visibility": null,
            "width": null
          }
        },
        "26183a2ebb4e47809d4bf11655e6ce95": {
          "model_module": "@jupyter-widgets/base",
          "model_name": "LayoutModel",
          "model_module_version": "1.2.0",
          "state": {
            "_model_module": "@jupyter-widgets/base",
            "_model_module_version": "1.2.0",
            "_model_name": "LayoutModel",
            "_view_count": null,
            "_view_module": "@jupyter-widgets/base",
            "_view_module_version": "1.2.0",
            "_view_name": "LayoutView",
            "align_content": null,
            "align_items": null,
            "align_self": null,
            "border": null,
            "bottom": null,
            "display": null,
            "flex": null,
            "flex_flow": null,
            "grid_area": null,
            "grid_auto_columns": null,
            "grid_auto_flow": null,
            "grid_auto_rows": null,
            "grid_column": null,
            "grid_gap": null,
            "grid_row": null,
            "grid_template_areas": null,
            "grid_template_columns": null,
            "grid_template_rows": null,
            "height": null,
            "justify_content": null,
            "justify_items": null,
            "left": null,
            "margin": null,
            "max_height": null,
            "max_width": null,
            "min_height": null,
            "min_width": null,
            "object_fit": null,
            "object_position": null,
            "order": null,
            "overflow": null,
            "overflow_x": null,
            "overflow_y": null,
            "padding": null,
            "right": null,
            "top": null,
            "visibility": null,
            "width": null
          }
        },
        "5ed1bb7fe0b04a58a352edc5515c1c9a": {
          "model_module": "@jupyter-widgets/controls",
          "model_name": "DescriptionStyleModel",
          "model_module_version": "1.5.0",
          "state": {
            "_model_module": "@jupyter-widgets/controls",
            "_model_module_version": "1.5.0",
            "_model_name": "DescriptionStyleModel",
            "_view_count": null,
            "_view_module": "@jupyter-widgets/base",
            "_view_module_version": "1.2.0",
            "_view_name": "StyleView",
            "description_width": ""
          }
        },
        "bb97223f0d1547389c320dba4fb52a27": {
          "model_module": "@jupyter-widgets/base",
          "model_name": "LayoutModel",
          "model_module_version": "1.2.0",
          "state": {
            "_model_module": "@jupyter-widgets/base",
            "_model_module_version": "1.2.0",
            "_model_name": "LayoutModel",
            "_view_count": null,
            "_view_module": "@jupyter-widgets/base",
            "_view_module_version": "1.2.0",
            "_view_name": "LayoutView",
            "align_content": null,
            "align_items": null,
            "align_self": null,
            "border": null,
            "bottom": null,
            "display": null,
            "flex": null,
            "flex_flow": null,
            "grid_area": null,
            "grid_auto_columns": null,
            "grid_auto_flow": null,
            "grid_auto_rows": null,
            "grid_column": null,
            "grid_gap": null,
            "grid_row": null,
            "grid_template_areas": null,
            "grid_template_columns": null,
            "grid_template_rows": null,
            "height": null,
            "justify_content": null,
            "justify_items": null,
            "left": null,
            "margin": null,
            "max_height": null,
            "max_width": null,
            "min_height": null,
            "min_width": null,
            "object_fit": null,
            "object_position": null,
            "order": null,
            "overflow": null,
            "overflow_x": null,
            "overflow_y": null,
            "padding": null,
            "right": null,
            "top": null,
            "visibility": null,
            "width": null
          }
        },
        "de481813e42e4be8aee89b88f534f9ff": {
          "model_module": "@jupyter-widgets/controls",
          "model_name": "ProgressStyleModel",
          "model_module_version": "1.5.0",
          "state": {
            "_model_module": "@jupyter-widgets/controls",
            "_model_module_version": "1.5.0",
            "_model_name": "ProgressStyleModel",
            "_view_count": null,
            "_view_module": "@jupyter-widgets/base",
            "_view_module_version": "1.2.0",
            "_view_name": "StyleView",
            "bar_color": null,
            "description_width": ""
          }
        },
        "f626b9b5ae3c4324b950497452a4f7e6": {
          "model_module": "@jupyter-widgets/base",
          "model_name": "LayoutModel",
          "model_module_version": "1.2.0",
          "state": {
            "_model_module": "@jupyter-widgets/base",
            "_model_module_version": "1.2.0",
            "_model_name": "LayoutModel",
            "_view_count": null,
            "_view_module": "@jupyter-widgets/base",
            "_view_module_version": "1.2.0",
            "_view_name": "LayoutView",
            "align_content": null,
            "align_items": null,
            "align_self": null,
            "border": null,
            "bottom": null,
            "display": null,
            "flex": null,
            "flex_flow": null,
            "grid_area": null,
            "grid_auto_columns": null,
            "grid_auto_flow": null,
            "grid_auto_rows": null,
            "grid_column": null,
            "grid_gap": null,
            "grid_row": null,
            "grid_template_areas": null,
            "grid_template_columns": null,
            "grid_template_rows": null,
            "height": null,
            "justify_content": null,
            "justify_items": null,
            "left": null,
            "margin": null,
            "max_height": null,
            "max_width": null,
            "min_height": null,
            "min_width": null,
            "object_fit": null,
            "object_position": null,
            "order": null,
            "overflow": null,
            "overflow_x": null,
            "overflow_y": null,
            "padding": null,
            "right": null,
            "top": null,
            "visibility": null,
            "width": null
          }
        },
        "8f15b5da56494f4aab87279f69828b86": {
          "model_module": "@jupyter-widgets/controls",
          "model_name": "DescriptionStyleModel",
          "model_module_version": "1.5.0",
          "state": {
            "_model_module": "@jupyter-widgets/controls",
            "_model_module_version": "1.5.0",
            "_model_name": "DescriptionStyleModel",
            "_view_count": null,
            "_view_module": "@jupyter-widgets/base",
            "_view_module_version": "1.2.0",
            "_view_name": "StyleView",
            "description_width": ""
          }
        },
        "4ada70fc93614c819dd9329132aa1746": {
          "model_module": "@jupyter-widgets/controls",
          "model_name": "HBoxModel",
          "model_module_version": "1.5.0",
          "state": {
            "_dom_classes": [],
            "_model_module": "@jupyter-widgets/controls",
            "_model_module_version": "1.5.0",
            "_model_name": "HBoxModel",
            "_view_count": null,
            "_view_module": "@jupyter-widgets/controls",
            "_view_module_version": "1.5.0",
            "_view_name": "HBoxView",
            "box_style": "",
            "children": [
              "IPY_MODEL_fc5bd790503f4548913dd79e41a54663",
              "IPY_MODEL_79e754cc4f284ffc8c512c96239429cc",
              "IPY_MODEL_fa933c47db144267be9f76597617b5f2"
            ],
            "layout": "IPY_MODEL_ec3d69de2ddd44cea46956d6f7bc393c"
          }
        },
        "fc5bd790503f4548913dd79e41a54663": {
          "model_module": "@jupyter-widgets/controls",
          "model_name": "HTMLModel",
          "model_module_version": "1.5.0",
          "state": {
            "_dom_classes": [],
            "_model_module": "@jupyter-widgets/controls",
            "_model_module_version": "1.5.0",
            "_model_name": "HTMLModel",
            "_view_count": null,
            "_view_module": "@jupyter-widgets/controls",
            "_view_module_version": "1.5.0",
            "_view_name": "HTMLView",
            "description": "",
            "description_tooltip": null,
            "layout": "IPY_MODEL_fa2a4ac4c14a450ea96d7b2fb68ba7f1",
            "placeholder": "​",
            "style": "IPY_MODEL_7edce10b6e1548788799e3517a17de47",
            "value": "100%"
          }
        },
        "79e754cc4f284ffc8c512c96239429cc": {
          "model_module": "@jupyter-widgets/controls",
          "model_name": "FloatProgressModel",
          "model_module_version": "1.5.0",
          "state": {
            "_dom_classes": [],
            "_model_module": "@jupyter-widgets/controls",
            "_model_module_version": "1.5.0",
            "_model_name": "FloatProgressModel",
            "_view_count": null,
            "_view_module": "@jupyter-widgets/controls",
            "_view_module_version": "1.5.0",
            "_view_name": "ProgressView",
            "bar_style": "success",
            "description": "",
            "description_tooltip": null,
            "layout": "IPY_MODEL_66e10585532a46d999b82102ceb72b1b",
            "max": 4542,
            "min": 0,
            "orientation": "horizontal",
            "style": "IPY_MODEL_521ba7e89a3547f887917782bf089790",
            "value": 4542
          }
        },
        "fa933c47db144267be9f76597617b5f2": {
          "model_module": "@jupyter-widgets/controls",
          "model_name": "HTMLModel",
          "model_module_version": "1.5.0",
          "state": {
            "_dom_classes": [],
            "_model_module": "@jupyter-widgets/controls",
            "_model_module_version": "1.5.0",
            "_model_name": "HTMLModel",
            "_view_count": null,
            "_view_module": "@jupyter-widgets/controls",
            "_view_module_version": "1.5.0",
            "_view_name": "HTMLView",
            "description": "",
            "description_tooltip": null,
            "layout": "IPY_MODEL_f01f5b81cafb4e2a99d9aaf6660d1039",
            "placeholder": "​",
            "style": "IPY_MODEL_84e2ac892ee1442b91304293da6bd871",
            "value": " 4542/4542 [00:00&lt;00:00, 130496.48it/s]"
          }
        },
        "ec3d69de2ddd44cea46956d6f7bc393c": {
          "model_module": "@jupyter-widgets/base",
          "model_name": "LayoutModel",
          "model_module_version": "1.2.0",
          "state": {
            "_model_module": "@jupyter-widgets/base",
            "_model_module_version": "1.2.0",
            "_model_name": "LayoutModel",
            "_view_count": null,
            "_view_module": "@jupyter-widgets/base",
            "_view_module_version": "1.2.0",
            "_view_name": "LayoutView",
            "align_content": null,
            "align_items": null,
            "align_self": null,
            "border": null,
            "bottom": null,
            "display": null,
            "flex": null,
            "flex_flow": null,
            "grid_area": null,
            "grid_auto_columns": null,
            "grid_auto_flow": null,
            "grid_auto_rows": null,
            "grid_column": null,
            "grid_gap": null,
            "grid_row": null,
            "grid_template_areas": null,
            "grid_template_columns": null,
            "grid_template_rows": null,
            "height": null,
            "justify_content": null,
            "justify_items": null,
            "left": null,
            "margin": null,
            "max_height": null,
            "max_width": null,
            "min_height": null,
            "min_width": null,
            "object_fit": null,
            "object_position": null,
            "order": null,
            "overflow": null,
            "overflow_x": null,
            "overflow_y": null,
            "padding": null,
            "right": null,
            "top": null,
            "visibility": null,
            "width": null
          }
        },
        "fa2a4ac4c14a450ea96d7b2fb68ba7f1": {
          "model_module": "@jupyter-widgets/base",
          "model_name": "LayoutModel",
          "model_module_version": "1.2.0",
          "state": {
            "_model_module": "@jupyter-widgets/base",
            "_model_module_version": "1.2.0",
            "_model_name": "LayoutModel",
            "_view_count": null,
            "_view_module": "@jupyter-widgets/base",
            "_view_module_version": "1.2.0",
            "_view_name": "LayoutView",
            "align_content": null,
            "align_items": null,
            "align_self": null,
            "border": null,
            "bottom": null,
            "display": null,
            "flex": null,
            "flex_flow": null,
            "grid_area": null,
            "grid_auto_columns": null,
            "grid_auto_flow": null,
            "grid_auto_rows": null,
            "grid_column": null,
            "grid_gap": null,
            "grid_row": null,
            "grid_template_areas": null,
            "grid_template_columns": null,
            "grid_template_rows": null,
            "height": null,
            "justify_content": null,
            "justify_items": null,
            "left": null,
            "margin": null,
            "max_height": null,
            "max_width": null,
            "min_height": null,
            "min_width": null,
            "object_fit": null,
            "object_position": null,
            "order": null,
            "overflow": null,
            "overflow_x": null,
            "overflow_y": null,
            "padding": null,
            "right": null,
            "top": null,
            "visibility": null,
            "width": null
          }
        },
        "7edce10b6e1548788799e3517a17de47": {
          "model_module": "@jupyter-widgets/controls",
          "model_name": "DescriptionStyleModel",
          "model_module_version": "1.5.0",
          "state": {
            "_model_module": "@jupyter-widgets/controls",
            "_model_module_version": "1.5.0",
            "_model_name": "DescriptionStyleModel",
            "_view_count": null,
            "_view_module": "@jupyter-widgets/base",
            "_view_module_version": "1.2.0",
            "_view_name": "StyleView",
            "description_width": ""
          }
        },
        "66e10585532a46d999b82102ceb72b1b": {
          "model_module": "@jupyter-widgets/base",
          "model_name": "LayoutModel",
          "model_module_version": "1.2.0",
          "state": {
            "_model_module": "@jupyter-widgets/base",
            "_model_module_version": "1.2.0",
            "_model_name": "LayoutModel",
            "_view_count": null,
            "_view_module": "@jupyter-widgets/base",
            "_view_module_version": "1.2.0",
            "_view_name": "LayoutView",
            "align_content": null,
            "align_items": null,
            "align_self": null,
            "border": null,
            "bottom": null,
            "display": null,
            "flex": null,
            "flex_flow": null,
            "grid_area": null,
            "grid_auto_columns": null,
            "grid_auto_flow": null,
            "grid_auto_rows": null,
            "grid_column": null,
            "grid_gap": null,
            "grid_row": null,
            "grid_template_areas": null,
            "grid_template_columns": null,
            "grid_template_rows": null,
            "height": null,
            "justify_content": null,
            "justify_items": null,
            "left": null,
            "margin": null,
            "max_height": null,
            "max_width": null,
            "min_height": null,
            "min_width": null,
            "object_fit": null,
            "object_position": null,
            "order": null,
            "overflow": null,
            "overflow_x": null,
            "overflow_y": null,
            "padding": null,
            "right": null,
            "top": null,
            "visibility": null,
            "width": null
          }
        },
        "521ba7e89a3547f887917782bf089790": {
          "model_module": "@jupyter-widgets/controls",
          "model_name": "ProgressStyleModel",
          "model_module_version": "1.5.0",
          "state": {
            "_model_module": "@jupyter-widgets/controls",
            "_model_module_version": "1.5.0",
            "_model_name": "ProgressStyleModel",
            "_view_count": null,
            "_view_module": "@jupyter-widgets/base",
            "_view_module_version": "1.2.0",
            "_view_name": "StyleView",
            "bar_color": null,
            "description_width": ""
          }
        },
        "f01f5b81cafb4e2a99d9aaf6660d1039": {
          "model_module": "@jupyter-widgets/base",
          "model_name": "LayoutModel",
          "model_module_version": "1.2.0",
          "state": {
            "_model_module": "@jupyter-widgets/base",
            "_model_module_version": "1.2.0",
            "_model_name": "LayoutModel",
            "_view_count": null,
            "_view_module": "@jupyter-widgets/base",
            "_view_module_version": "1.2.0",
            "_view_name": "LayoutView",
            "align_content": null,
            "align_items": null,
            "align_self": null,
            "border": null,
            "bottom": null,
            "display": null,
            "flex": null,
            "flex_flow": null,
            "grid_area": null,
            "grid_auto_columns": null,
            "grid_auto_flow": null,
            "grid_auto_rows": null,
            "grid_column": null,
            "grid_gap": null,
            "grid_row": null,
            "grid_template_areas": null,
            "grid_template_columns": null,
            "grid_template_rows": null,
            "height": null,
            "justify_content": null,
            "justify_items": null,
            "left": null,
            "margin": null,
            "max_height": null,
            "max_width": null,
            "min_height": null,
            "min_width": null,
            "object_fit": null,
            "object_position": null,
            "order": null,
            "overflow": null,
            "overflow_x": null,
            "overflow_y": null,
            "padding": null,
            "right": null,
            "top": null,
            "visibility": null,
            "width": null
          }
        },
        "84e2ac892ee1442b91304293da6bd871": {
          "model_module": "@jupyter-widgets/controls",
          "model_name": "DescriptionStyleModel",
          "model_module_version": "1.5.0",
          "state": {
            "_model_module": "@jupyter-widgets/controls",
            "_model_module_version": "1.5.0",
            "_model_name": "DescriptionStyleModel",
            "_view_count": null,
            "_view_module": "@jupyter-widgets/base",
            "_view_module_version": "1.2.0",
            "_view_name": "StyleView",
            "description_width": ""
          }
        }
      }
    }
  },
  "cells": [
    {
      "cell_type": "markdown",
      "source": [
        "##Question # 3 \n",
        "(Library Implementation)"
      ],
      "metadata": {
        "id": "pCNtXs1plFNs"
      }
    },
    {
      "cell_type": "markdown",
      "source": [
        "##Question # 2"
      ],
      "metadata": {
        "id": "KGgigrP3yZ6L"
      }
    },
    {
      "cell_type": "code",
      "source": [
        "import numpy as np\n",
        "import tarfile\n",
        "import os\n",
        "import shutil\n",
        "import re \n",
        "from collections import Counter\n",
        "from collections import OrderedDict\n",
        "from sklearn.metrics import confusion_matrix, ConfusionMatrixDisplay\n",
        "import matplotlib.pyplot as plt\n",
        "import random\n",
        "\n",
        "if(os.path.exists(\"./languageID\")):\n",
        "  shutil.rmtree(\"./languageID\")\n",
        "file = tarfile.open('languageID.tgz')\n",
        "file.extractall('.')  \n",
        "file.close()"
      ],
      "metadata": {
        "id": "CMCiuc7NZXf8"
      },
      "execution_count": 1,
      "outputs": []
    },
    {
      "cell_type": "markdown",
      "source": [
        "####part 1"
      ],
      "metadata": {
        "id": "tNLNxy_Z0lTG"
      }
    },
    {
      "cell_type": "code",
      "source": [
        "##Build training data\n",
        "\n",
        "def func_build_data(path, train=True):\n",
        "  labels=[]\n",
        "  data=[]\n",
        "  filenames=[]\n",
        "  for filename in os.listdir(path):\n",
        "    if(train==True):\n",
        "      if(filename[1].isdigit() and filename[2] =='.'):\n",
        "        x_ij=list(open(path+filename).read())\n",
        "        x_ij=list(filter(('\\n').__ne__, x_ij))\n",
        "        data.append(x_ij)\n",
        "        labels.append(filename[0])\n",
        "        filenames.append(filename)\n",
        "    else:\n",
        "      if(filename[1:2].isdigit() and filename[3] =='.'):\n",
        "        x_ij=list(open(path+filename).read())\n",
        "        x_ij=list(filter(('\\n').__ne__, x_ij))\n",
        "        data.append(x_ij)\n",
        "        labels.append(filename[0])\n",
        "        filenames.append(filename)\n",
        "\n",
        "\n",
        "  return data, labels, filenames\n",
        "\n",
        "path= './languageID/'\n",
        "train_data, train_labels, train_filenames = func_build_data(path, True)\n",
        "\n",
        "\n",
        "def func_prior(labels, alpha, KL, y ):\n",
        "  occurences=Counter(labels)\n",
        "  prior = (occurences[y]+alpha)/((len(labels)+(KL*alpha)))\n",
        "  return prior\n",
        "\n",
        "prior_e = func_prior(train_labels, 0.5, 3, 'e')\n",
        "prior_j = func_prior(train_labels, 0.5, 3, 'j')\n",
        "prior_s = func_prior(train_labels, 0.5, 3, 's')\n",
        "\n",
        "print(\"Prior probability of p(y=e): \", prior_e)\n",
        "print(\"Prior probability of p(y=s): \", prior_j)\n",
        "print(\"Prior probability of p(y=j): \", prior_s)"
      ],
      "metadata": {
        "colab": {
          "base_uri": "https://localhost:8080/"
        },
        "id": "6c8sliAiZXla",
        "outputId": "897caa17-8a3c-41a8-8714-7471a050769b"
      },
      "execution_count": 2,
      "outputs": [
        {
          "output_type": "stream",
          "name": "stdout",
          "text": [
            "Prior probability of p(y=e):  0.3333333333333333\n",
            "Prior probability of p(y=s):  0.3333333333333333\n",
            "Prior probability of p(y=j):  0.3333333333333333\n"
          ]
        }
      ]
    },
    {
      "cell_type": "markdown",
      "source": [
        "####part 2"
      ],
      "metadata": {
        "id": "YNu36LSF0n1p"
      }
    },
    {
      "cell_type": "code",
      "source": [
        "S = [' ','a','b','c','d','e','f','g','h','i','j','k','l','m','n','o','p','q','r','s','t','u','v','w','x','y','z']\n",
        "def func_class_conditional_probab(S, alpha, data, labels, y):\n",
        "  theta=[]\n",
        "  KS=len(S)\n",
        "  sum_all=0\n",
        "  for ci in S:\n",
        "    sum=0\n",
        "    for i,ck in enumerate(labels):\n",
        "      occurences=Counter(data[i])\n",
        "      if(ck==y):\n",
        "        #print(filenames[i])\n",
        "        #print(occurences)\n",
        "        sum+=occurences[ci]\n",
        "        #print(sum)\n",
        "        sum_all+=occurences[ci]\n",
        "    theta.append(sum)\n",
        "    #break\n",
        "  theta = list(map(lambda x:((x+alpha)/(sum_all + (KS*alpha))), theta))\n",
        "  return theta\n",
        "\n",
        "theta_e = func_class_conditional_probab(S, 0.5, train_data, train_labels, 'e')\n",
        "print(\"The class conditional probabilities for English (theta_e): \\n\", theta_e)\n"
      ],
      "metadata": {
        "colab": {
          "base_uri": "https://localhost:8080/"
        },
        "id": "004oia5XZXoS",
        "outputId": "6a151525-80af-4975-c18e-509ef0fce4b3"
      },
      "execution_count": 3,
      "outputs": [
        {
          "output_type": "stream",
          "name": "stdout",
          "text": [
            "The class conditional probabilities for English (theta_e): \n",
            " [0.1792499586981662, 0.0601685114819098, 0.011134974392863043, 0.021509995043779945, 0.021972575582355856, 0.1053692383941847, 0.018932760614571286, 0.017478936064761277, 0.047216256401784236, 0.055410540227986124, 0.001420783082768875, 0.0037336857756484387, 0.028977366595076822, 0.020518751032545846, 0.057921691723112505, 0.06446390219725756, 0.01675202378985627, 0.0005617049396993227, 0.053824549810011564, 0.06618205848339666, 0.08012555757475633, 0.026664463902197257, 0.009284652238559392, 0.015496448042293078, 0.001156451346439782, 0.013844374690236246, 0.0006277878737815959]\n"
          ]
        }
      ]
    },
    {
      "cell_type": "markdown",
      "source": [
        "####part 3"
      ],
      "metadata": {
        "id": "SehVZjpC5eiI"
      }
    },
    {
      "cell_type": "code",
      "source": [
        "theta_j = func_class_conditional_probab(S, 0.5, train_data, train_labels, 'j')\n",
        "print(\"The class conditional probabilities for Japanese (theta_j): \\n\", theta_j)\n",
        "\n",
        "theta_s = func_class_conditional_probab(S, 0.5, train_data, train_labels, 's')\n",
        "print(\"The class conditional probabilities for Spanish (theta_s): \\n\", theta_s)"
      ],
      "metadata": {
        "colab": {
          "base_uri": "https://localhost:8080/"
        },
        "id": "qFjAFHK_ZXrJ",
        "outputId": "097ef902-f0e3-45fc-d0d8-da650c256d2d"
      },
      "execution_count": 4,
      "outputs": [
        {
          "output_type": "stream",
          "name": "stdout",
          "text": [
            "The class conditional probabilities for Japanese (theta_j): \n",
            " [0.12344945665466997, 0.1317656102589189, 0.010866906600510151, 0.005485866033054963, 0.01722631818022992, 0.06020475907613823, 0.003878542227191726, 0.014011670568503443, 0.03176211607673224, 0.09703343932352633, 0.0023411020650616725, 0.05740941332681086, 0.001432614696530277, 0.03979873510604843, 0.05671057688947902, 0.09116321324993885, 0.0008735455466648031, 0.00010482546559977637, 0.04280373178657535, 0.0421747789929767, 0.056990111464411755, 0.07061742199238269, 0.0002445927530661449, 0.01974212935462455, 3.4941821866592126e-05, 0.01415143785596981, 0.00772214263251686]\n",
            "The class conditional probabilities for Spanish (theta_s): \n",
            " [0.16826493170115014, 0.10456045141993771, 0.008232863618143134, 0.03752582405722919, 0.039745922111559924, 0.1138108599796491, 0.00860287996053159, 0.0071844839813758445, 0.0045327001942585795, 0.049859702136844375, 0.006629459467793161, 0.0002775122567913416, 0.052943171656748174, 0.02580863988159477, 0.054176559464709693, 0.07249236841293824, 0.02426690512164287, 0.007677839104560451, 0.05929511886774999, 0.06577040485954797, 0.03561407295488884, 0.03370232185254849, 0.00588942678301625, 9.250408559711388e-05, 0.0024976103111220747, 0.007862847275754679, 0.0026826184823163022]\n"
          ]
        }
      ]
    },
    {
      "cell_type": "markdown",
      "source": [
        "###part 4"
      ],
      "metadata": {
        "id": "weng-3NgSyjW"
      }
    },
    {
      "cell_type": "code",
      "source": [
        "def func_xtest_count(filename):\n",
        "  x=list(open(path+filename).read())\n",
        "  x=list(filter(('\\n').__ne__, x))\n",
        "  counts=Counter(x)\n",
        "  x_dict = OrderedDict(sorted(counts.items()))\n",
        "  return x, x_dict\n",
        "\n",
        "x, x_dict = func_xtest_count('e10.txt')\n",
        "print(\"X vector without counts: \",x)\n",
        "print(\"x vector with counts: \",x_dict)"
      ],
      "metadata": {
        "id": "sXLbn3RGSyu5",
        "colab": {
          "base_uri": "https://localhost:8080/"
        },
        "outputId": "24ac01a5-b861-49c9-afba-0b877818f510"
      },
      "execution_count": 5,
      "outputs": [
        {
          "output_type": "stream",
          "name": "stdout",
          "text": [
            "X vector without counts:  ['e', 'x', 'c', 'e', 'p', 't', ' ', 'w', 'h', 'e', 'n', ' ', 't', 'h', 'e', ' ', 'w', 'i', 'n', 'd', 's', ' ', 'r', 'i', 's', 'e', ' ', 't', 'o', ' ', 'a', ' ', 'h', 'i', 'g', 'h', ' ', 's', 'p', 'e', 'e', 'd', ' ', 'w', 'e', ' ', 's', 'e', 'e', 'm', ' ', 't', 'o', ' ', 'l', 'i', 'v', 'e', ' ', 'i', 'n', ' ', 'a', ' ', 'v', 'e', 'r', 'y', ' ', 't', 'r', 'a', 'n', 'q', 'u', 'i', 'l', ' ', 'w', 'o', 'r', 'l', 'd', ' ', 'a', 't', ' ', 'n', 'i', 'g', 'h', 't', ' ', 'w', 'h', 'e', 'n', ' ', 't', 'h', 'e', ' ', 'g', 'l', 'a', 'r', 'e', ' ', 'o', 'f', ' ', 't', 'h', 'e', ' ', 's', 'u', 'n', ' ', 'p', 'a', 's', 's', 'e', 's', ' ', 'o', 'u', 't', ' ', 'o', 'f', ' ', 'o', 'u', 'r', ' ', 'a', 't', 'm', 'o', 's', 'p', 'h', 'e', 'r', 'e', ' ', 't', 'h', 'e', ' ', 's', 't', 'a', 'r', 's', ' ', 'a', 'n', 'd', ' ', 'p', 'l', 'a', 'n', 'e', 't', 's', ' ', 's', 'e', 'e', 'm', ' ', 't', 'o', ' ', 'm', 'o', 'v', 'e', ' ', 'a', 'c', 'r', 'o', 's', 's', ' ', 't', 'h', 'e', ' ', 'h', 'e', 'a', 'v', 'e', 'n', 's', ' ', 'w', 'i', 't', 'h', ' ', 'a', ' ', 's', 't', 'a', 't', 'e', 'l', 'y', ' ', 'a', 'n', 'd', ' ', 's', 'o', 'l', 'e', 'm', 'n', ' ', 's', 'l', 'o', 'w', 'n', 'e', 's', 's', ' ', 'i', 't', ' ', 'w', 'a', 's', ' ', 'o', 'n', 'e', ' ', 'o', 'f', ' ', 't', 'h', 'e', ' ', 'f', 'i', 'r', 's', 't', ' ', 'd', 'i', 's', 'c', 'o', 'v', 'e', 'r', 'i', 'e', 's', ' ', 'o', 'f', ' ', 'm', 'o', 'd', 'e', 'r', 'n', ' ', 'a', 's', 't', 'r', 'o', 'n', 'o', 'm', 'y', ' ', 't', 'h', 'a', 't', ' ', 't', 'h', 'i', 's', ' ', 'm', 'o', 'v', 'e', 'm', 'e', 'n', 't', ' ', 'i', 's', ' ', 'o', 'n', 'l', 'y', ' ', 'a', 'p', 'p', 'a', 'r', 'e', 'n', 't', ' ', 't', 'h', 'e', ' ', 'a', 'p', 'p', 'a', 'r', 'e', 'n', 't', ' ', 'c', 'r', 'e', 'e', 'p', 'i', 'n', 'g', ' ', 'o', 'f', ' ', 't', 'h', 'e', ' ', 's', 't', 'a', 'r', 's', ' ', 'a', 'c', 'r', 'o', 's', 's', ' ', 't', 'h', 'e', ' ', 'h', 'e', 'a', 'v', 'e', 'n', 's', ' ', 'a', 't', ' ', 'n', 'i', 'g', 'h', 't', ' ', 'i', 's', ' ', 'a', 'c', 'c', 'o', 'u', 'n', 't', 'e', 'd', ' ', 'f', 'o', 'r', ' ', 'b', 'y', ' ', 't', 'h', 'e', ' ', 'f', 'a', 'c', 't', ' ', 't', 'h', 'a', 't', ' ', 't', 'h', 'e', ' ', 'e', 'a', 'r', 't', 'h', ' ', 't', 'u', 'r', 'n', 's', ' ', 'u', 'p', 'o', 'n', ' ', 'i', 't', 's', ' ', 'a', 'x', 'i', 's', ' ', 'o', 'n', 'c', 'e', ' ', 'i', 'n', ' ', 'e', 'v', 'e', 'r', 'y', ' ', 't', 'w', 'e', 'n', 't', 'y', 'f', 'o', 'u', 'r', ' ', 'h', 'o', 'u', 'r', 's', ' ', 'w', 'h', 'e', 'n', ' ', 'w', 'e', ' ', 'r', 'e', 'm', 'e', 'm', 'b', 'e', 'r', ' ', 't', 'h', 'e', ' ', 's', 'i', 'z', 'e', ' ', 'o', 'f', ' ', 't', 'h', 'e', ' ', 'e', 'a', 'r', 't', 'h', ' ', 'w', 'e', ' ', 's', 'e', 'e', ' ', 't', 'h', 'a', 't', ' ', 't', 'h', 'i', 's', ' ', 'i', 'm', 'p', 'l', 'i', 'e', 's', ' ', 'a', ' ', 'p', 'r', 'o', 'd', 'i', 'g', 'i', 'o', 'u', 's', ' ', 's', 'p', 'e', 'e', 'd', 'f', 'i', 'g', ' ', 't', 'h', 'e', ' ', 'm', 'i', 'l', 'k', 'y', ' ', 'w', 'a', 'y', 'i', 't', ' ', 'h', 'a', 'd', ' ', 'r', 'e', 'm', 'a', 'i', 'n', 'e', 'd', ' ', 'u', 'n', 'c', 'h', 'a', 'n', 'g', 'e', 'd', ' ', 's', 'i', 'n', 'c', 'e', ' ', 'n', 'o', 'o', 'n', ' ', 'o', 'f', ' ', 't', 'h', 'e', ' ', 'p', 'r', 'e', 'v', 'i', 'o', 'u', 's', ' ', 'd', 'a', 'y', 'a', ' ', 'l', 'o', 'n', 'g', ' ', 'l', 'o', 'w', ' ', 'q', 'u', 'i', 'e', 't', 'l', 'o', 'o', 'k', 'i', 'n', 'g', ' ', 'c', 'l', 'o', 'u', 'd', ' ', 'n', 'o', 't', ' ', 'v', 'e', 'r', 'y', ' ', 'd', 'e', 'n', 's', 'e', ' ', 'o', 'r', ' ', 'b', 'r', 'i', 'l', 'l', 'i', 'a', 'n', 't', ' ', 'o', 'r', ' ', 'i', 'n', ' ', 'a', 'n', 'y', ' ', 'w', 'a', 'y', ' ', 'r', 'e', 'm', 'a', 'r', 'k', 'a', 'b', 'l', 'e', ' ', 'e', 'x', 'c', 'e', 'p', 't', ' ', 'f', 'o', 'r', ' ', 'i', 't', 's', ' ', 's', 'i', 'z', 'e', ' ', 'a', 't', ' ', ' ', 'p', 'm', ' ', 't', 'h', 'e', ' ', 'p', 'r', 'o', 'f', 'e', 's', 's', 'o', 'r', ' ', 'l', 'e', 'f', 't', ' ', 't', 'h', 'e', ' ', 's', 'p', 'e', 'c', 't', 'r', 'o', 's', 'c', 'o', 'p', 'e', ' ', 'f', 'o', 'r', ' ', 'a', ' ', 's', 'h', 'o', 'r', 't', ' ', 't', 'i', 'm', 'e', ' ', 'a', 'n', 'd', ' ', 'o', 'n', ' ', 'r', 'e', 't', 'u', 'r', 'n', 'i', 'n', 'g', ' ', 'h', 'a', 'l', 'f', ' ', 'a', 'n', ' ', 'h', 'o', 'u', 'r', ' ', 'l', 'a', 't', 'e', 'r', ' ', 't', 'o', ' ', 'h', 'i', 's', ' ', 'o', 'b', 's', 'e', 'r', 'v', 'a', 't', 'i', 'o', 'n', 's', ' ', 'h', 'e', ' ', 'w', 'a', 's', ' ', 'a', 's', 't', 'o', 'n', 'i', 's', 'h', 'e', 'd', ' ', 't', 'o', ' ', 'f', 'i', 'n', 'd', ' ', 't', 'h', 'e', ' ', 'g', 'i', 'g', 'a', 'n', 't', 'i', 'c', ' ', 's', 'u', 'n', ' ', 'f', 'l', 'a', 'm', 'e', ' ', 's', 'h', 'a', 't', 't', 'e', 'r', 'e', 'd', ' ', 't', 'o', ' ', 'p', 'i', 'e', 'c', 'e', 's', ' ', 't', 'h', 'e', ' ', 's', 'o', 'l', 'a', 'r', ' ', 'a', 't', 'm', 'o', 's', 'p', 'h', 'e', 'r', 'e', ' ', 'w', 'a', 's', ' ', 'f', 'i', 'l', 'l', 'e', 'd', ' ', 'w', 'i', 't', 'h', ' ', 'f', 'l', 'y', 'i', 'n', 'g', ' ', 'd', 'e', 'b', 'r', 'i', 's', ' ', 'a', 'n', 'd', ' ', 's', 'o', 'm', 'e', ' ', 'o', 'f', ' ', 't', 'h', 'e', 's', 'e', ' ', 'p', 'o', 'r', 't', 'i', 'o', 'n', 's', ' ', 'r', 'e', 'a', 'c', 'h', 'e', 'd', ' ', 'a', ' ', 'h', 'e', 'i', 'g', 'h', 't', ' ', 'o', 'f', ' ', ' ', 'm', 'i', 'l', 'e', 's', ' ', 'a', 'b', 'o', 'v', 'e', ' ', 't', 'h', 'e', ' ', 's', 'o', 'l', 'a', 'r', ' ', 's', 'u', 'r', 'f', 'a', 'c', 'e', ' ', 'm', 'o', 'v', 'i', 'n', 'g', ' ', 'w', 'i', 't', 'h', ' ', 'a', ' ', 'v', 'e', 'l', 'o', 'c', 'i', 't', 'y', ' ', 'w', 'h', 'i', 'c', 'h', ' ', 'e', 'v', 'e', 'n', ' ', 'a', 't', ' ', 't', 'h', 'e', ' ', 'd', 'i', 's', 't', 'a', 'n', 'c', 'e', ' ', 'o', 'f', ' ', ' ', 'm', 'i', 'l', 'e', 's', ' ', 'w', 'a', 's', ' ', 'a', 'l', 'm', 'o', 's', 't', ' ', 'p', 'e', 'r', 'c', 'e', 'p', 't', 'i', 'b', 'l', 'e', ' ', 't', 'o', ' ', 't', 'h', 'e', ' ', 'e', 'y', 'e', ' ', 't', 'h', 'e', 's', 'e', ' ', 'f', 'r', 'a', 'g', 'm', 'e', 'n', 't', 's', ' ', 'd', 'o', 'u', 'b', 'l', 'e', 'd', ' ', 't', 'h', 'e', 'i', 'r', ' ', 'h', 'e', 'i', 'g', 'h', 't', ' ', 'i', 'n', ' ', 't', 'e', 'n', ' ', 'm', 'i', 'n', 'u', 't', 'e', 's', ' ', 'o', 'n', ' ', 'j', 'a', 'n', 'u', 'a', 'r', 'y', ' ', ' ', ' ', 'a', 'n', 'o', 't', 'h', 'e', 'r', ' ', 'd', 'i', 's', 't', 'i', 'n', 'g', 'u', 'i', 's', 'h', 'e', 'd', ' ', 's', 'o', 'l', 'a', 'r', ' ', 'o', 'b', 's', 'e', 'r', 'v', 'e', 'r', ' ', 't', 'h', 'e', ' ', 'l', 'a', 't', 'e', ' ', 'p', 'r', 'o', 'f', 'e', 's', 's', 'o', 'r', ' ', 't', 'a', 'c', 'c', 'h', 'i', 'n', 'i', ' ', 'o', 'f', ' ', 'r', 'o', 'm', 'e', ' ', 'o', 'b', 's', 'e', 'r', 'v', 'e', 'd', ' ', 'o', 'n', 'e', ' ', 'o', 'f', ' ', 't', 'h', 'e', ' ', 'g', 'r', 'e', 'a', 't', 'e', 's', 't', ' ', 'p', 'r', 'o', 'm', 'i', 'n', 'e', 'n', 'c', 'e', 's', ' ', 'e', 'v', 'e', 'r', ' ', 's', 'e', 'e', 'n', ' ', 'b', 'y', ' ', 'm', 'a', 'n', ' ', 'i', 't', 's', ' ', 'h', 'e', 'i', 'g', 'h', 't', ' ', 'w', 'a', 's', ' ', 'n', 'o', ' ', 'l', 'e', 's', 's', ' ', 't', 'h', 'a', 'n', ' ', ' ', 'm', 'i', 'l', 'e', 's', 'e', 'i', 'g', 'h', 't', 'e', 'e', 'n', ' ', 't', 'i', 'm', 'e', 's', ' ', 't', 'h', 'e', ' ', 'd', 'i', 'a', 'm', 'e', 't', 'e', 'r', ' ', 'o', 'f', ' ', 't', 'h', 'e', ' ', 'e', 'a', 'r', 't', 'h', ' ', 'a', 'n', 'o', 't', 'h', 'e', 'r', ' ', 'm', 'i', 'g', 'h', 't', 'y', ' ', 'f', 'l', 'a', 'm', 'e', ' ', 'w', 'a', 's', ' ', 's', 'o', ' ', 'v', 'a', 's', 't', ' ', 't', 'h', 'a', 't', ' ', 's', 'u', 'p', 'p', 'o', 's', 'i', 'n', 'g', ' ', 't', 'h', 'e', ' ', 'e', 'i', 'g', 'h', 't', ' ', 'l', 'a', 'r', 'g', 'e', ' ', 'p', 'l', 'a', 'n', 'e', 't', 's', ' ', 'o', 'f', ' ', 't', 'h', 'e', ' ', 's', 'o', 'l', 'a', 'r', ' ', 's', 'y', 's', 't', 'e', 'm', ' ', 'r', 'a', 'n', 'g', 'e', 'd', ' ', 'o', 'n', 'e', ' ', 'o', 'n', ' ', 't', 'o', 'p', ' ', 'o', 'f', ' ', 't', 'h', 'e', ' ', 'o', 't', 'h', 'e', 'r', ' ', 't', 'h', 'e', ' ', 'p', 'r', 'o', 'm', 'i', 'n', 'e', 'n', 'c', 'e', ' ', 'w', 'o', 'u', 'l', 'd', ' ', 's', 't', 'i', 'l', 'l', ' ', 't', 'o', 'w', 'e', 'r', ' ', 'a', 'b', 'o', 'v', 'e', ' ', 't', 'h', 'e', 'm', 'h', 'e', 'r', 'e', ' ', 'l', 'e', 't', ' ', 'u', 's', ' ', 'r', 'e', 't', 'u', 'r', 'n', ' ', 't', 'o', ' ', 'a', 'n', 'd', ' ', 's', 'e', 'e', ' ', 'w', 'h', 'a', 't', ' ', 'm', 'o', 'r', 'e', ' ', 'w', 'e', ' ', 'k', 'n', 'o', 'w', ' ', 'a', 'b', 'o', 'u', 't', ' ', 't', 'h', 'e', ' ', 'p', 'h', 'o', 't', 'o', 's', 'p', 'h', 'e', 'r', 'e', 't', 'h', 'e', ' ', 's', 'u', 'n', 's', ' ', 's', 'u', 'r', 'f', 'a', 'c', 'e', ' ', 'i', 't', ' ', 'i', 's', ' ', 'f', 'r', 'o', 'm', ' ', 't', 'h', 'e', ' ', 'p', 'h', 'o', 't', 'o', 's', 'p', 'h', 'e', 'r', 'e', ' ', 't', 'h', 'a', 't', ' ', 'w', 'e', ' ', 'h', 'a', 'v', 'e', ' ', 'g', 'a', 'i', 'n', 'e', 'd', ' ', 'm', 'o', 's', 't', ' ', 'o', 'f', ' ', 'o', 'u', 'r', ' ', 'k', 'n', 'o', 'w', 'l', 'e', 'd', 'g', 'e', ' ', 'o', 'f', ' ', 't', 'h', 'e', ' ', 'c', 'o', 'm', 'p', 'o', 's', 'i', 't', 'i', 'o', 'n', ' ', 'o', 'f', ' ', 't', 'h', 'e', ' ', 's', 'u', 'n', ' ', 'w', 'h', 'i', 'c', 'h', ' ', 'i', 's', ' ', 'b', 'e', 'l', 'i', 'e', 'v', 'e', 'd', ' ', 'n', 'o', 't', ' ', 't', 'o', ' ', 'b', 'e', ' ', 'a', ' ', 's', 'o', 'l', 'i', 'd', ' ', 'b', 'o', 'd', 'y', ' ', 'e', 'x', 'a', 'm', 'i', 'n', 'a', 't', 'i', 'o', 'n', ' ', 'o', 'f', ' ', 't', 'h', 'e', ' ', 'p', 'h', 'o', 't', 'o', 's', 'p', 'h', 'e', 'r', 'e', ' ', 's', 'h', 'o', 'w', 's', ' ', 't', 'h', 'a', 't', ' ', 't', 'h', 'e', ' ', 'o', 'u', 't', 'e', 'r', ' ', 's', 'u', 'r', 'f', 'a', 'c', 'e', ' ', 'i', 's', ' ', 'n', 'e', 'v', 'e', 'r', ' ', 'a', 't', ' ', 'r', 'e', 's', 't', ' ', 's', 'm', 'a', 'l', 'l', ' ', 'b', 'r', 'i', 'g', 'h', 't', ' ', 'c', 'l', 'o', 'u', 'd', 'l', 'e', 't', 's', ' ', 'c', 'o', 'm', 'e', ' ', 'a', 'n', 'd', ' ', 'g', 'o', ' ', 'i', 'n', ' ', 'r', 'a', 'p', 'i', 'd', ' ', 's', 'u', 'c', 'c', 'e', 's', 's', 'i', 'o', 'n', ' ', 'g', 'i', 'v', 'i', 'n', 'g', ' ', 't', 'h', 'e', ' ', 's', 'u', 'r', 'f', 'a', 'c', 'e', ' ', 't', 'h', 'r', 'o', 'u', 'g', 'h', ' ', 'c', 'o', 'n', 't', 'r', 'a', 's', 't', 's', ' ', 'i', 'n', ' ', 'l', 'u', 'm', 'i', 'n', 'o', 's', 'i', 't', 'y', ' ', 'a', ' ', 'g', 'r', 'a', 'n', 'u', 'l', 'a', 'r', ' ', 'a', 'p', 'p', 'e', 'a', 'r', 'a', 'n', 'c', 'e', ' ', 'o', 'f', ' ', 'c', 'o', 'u', 'r', 's', 'e', ' ', 't', 'o', ' ', 'b', 'e', ' ', 'v', 'i', 's', 'i', 'b', 'l', 'e', ' ', 'a', 't', ' ', 'a', 'l', 'l', ' ', 'a', 't', ' ', ' ', 'm', 'i', 'l', 'e', 's', ' ', 't', 'h', 'e', ' ', 'c', 'l', 'o', 'u', 'd', 'l', 'e', 't', 's', ' ', 'c', 'a', 'n', 'n', 'o', 't', ' ', 'b', 'e', ' ', 's', 'm', 'a', 'l', 'l', ' ', 't', 'h', 'e', 'y', ' ', 'i', 'm', 'p', 'l', 'y', ' ', 'e', 'n', 'o', 'r', 'm', 'o', 'u', 's', ' ', 'a', 'c', 't', 'i', 'v', 'i', 't', 'y', ' ', 'i', 'n', ' ', 't', 'h', 'e', ' ', 'p', 'h', 'o', 't', 'o', 's', 'p', 'h', 'e', 'r', 'e', ' ', 'i', 'f', ' ', 'w', 'e', ' ', 'm', 'i', 'g', 'h', 't', ' ', 's', 'p', 'e', 'a', 'k', ' ', 'p', 'i', 'c', 't', 'u', 'r', 'e', 's', 'q', 'u', 'e', 'l', 'y', ' ', 't', 'h', 'e', ' ', 's', 'u', 'n', 's', ' ', 's', 'u', 'r', 'f', 'a', 'c', 'e', ' ', 'r', 'e', 's', 'e', 'm', 'b', 'l', 'e', 's', ' ', 'a', ' ', 'b', 'o', 'i', 'l', 'i', 'n', 'g', ' ', 'o', 'c', 'e', 'a', 'n', ' ', 'o', 'f', ' ', 'w', 'h', 'i', 't', 'e', 'h', 'o', 't', ' ', 'm', 'e', 't', 'a', 'l', ' ', 'v', 'a', 'p', 'o', 'u', 'r', 's', ' ', 'w', 'e', ' ', 'h', 'a', 'v', 'e', ' ', 't', 'o', 'd', 'a', 'y', ' ', 'a', ' ', 'w', 'o', 'n', 'd', 'e', 'r', 'f', 'u', 'l', ' ', 'i', 'n', 's', 't', 'r', 'u', 'm', 'e', 'n', 't', ' ', 'w', 'h', 'i', 'c', 'h', ' ', 'w', 'i', 'l', 'l', ' ', 'b', 'e', ' ', 'd', 'e', 's', 'c', 'r', 'i', 'b', 'e', 'd', ' ', 'l', 'a', 't', 'e', 'r', ' ', 'w', 'h', 'i', 'c', 'h', ' ', 'd', 'i', 'l', 'u', 't', 'e', 's', ' ', 'a', 's', ' ', 'i', 't', ' ', 'w', 'e', 'r', 'e', ' ', 't', 'h', 'e', ' ', 'g', 'e', 'n', 'e', 'r', 'a', 'l', ' ', 'g', 'l', 'a', 'r', 'e', ' ', 'o', 'f', ' ', 't', 'h', 'e', ' ', 's', 'u', 'n', ' ', 'a', 'n', 'd', ' ', 'e', 'n', 'a', 'b', 'l', 'e', 's', ' ', 'u', 's', ' ', 't', 'o', ' ', 'o', 'b', 's', 'e', 'r', 'v', 'e', ' ', 't', 'h', 'e', 's', 'e', ' ', 'f', 'i', 'e', 'r', 'y', ' ', 'e', 'r', 'u', 'p', 't', 'i', 'o', 'n', 's', ' ', 'a', 't', ' ', 'a', 'n', 'y', ' ', 'h', 'o', 'u', 'r', ' ', 't', 'h', 'e', ' ', 'o', 'c', 'e', 'a', 'n', 's', ' ', 'o', 'f', ' ', 'r', 'e', 'd', 'h', 'o', 't', ' ', 'g', 'a', 's', ' ', 'a', 'n', 'd', ' ', 'w', 'h', 'i', 't', 'e', 'h', 'o', 't', ' ', 'm', 'e', 't', 'a', 'l', ' ', 'v', 'a', 'p', 'o', 'u', 'r', ' ', 'a', 't', ' ', 't', 'h', 'e', ' ', 's', 'u', 'n', 's', ' ', 's', 'u', 'r', 'f', 'a', 'c', 'e', ' ', 'a', 'r', 'e', ' ', 'c', 'o', 'n', 's', 't', 'a', 'n', 't', 'l', 'y', ' ', 'd', 'r', 'i', 'v', 'e', 'n', ' ', 'b', 'y', ' ', 'g', 'r', 'e', 'a', 't', ' ', 's', 't', 'o', 'r', 'm', 's', ' ', 's', 'o', 'm', 'e', ' ', 'u', 'n', 'i', 'm', 'a', 'g', 'i', 'n', 'a', 'b', 'l', 'e', ' ', 'e', 'n', 'e', 'r', 'g', 'y', ' ', 's', 't', 'r', 'e', 'a', 'm', 's', ' ', 'o', 'u', 't', ' ', 'f', 'r', 'o', 'm', ' ', 't', 'h', 'e', ' ', 'b', 'o', 'd', 'y', ' ', 'o', 'r', ' ', 'm', 'u', 's', 'c', 'l', 'e', 's', ' ', 'o', 'f', ' ', 't', 'h', 'e', ' ', 's', 'u', 'n', ' ', 'a', 'n', 'd', ' ', 'b', 'l', 'o', 'w', 's', ' ', 'i', 't', 's', ' ', 'o', 'u', 't', 'e', 'r', ' ', 'l', 'a', 'y', 'e', 'r', 's', ' ', 'i', 'n', 't', 'o', ' ', 'g', 'i', 'g', 'a', 'n', 't', 'i', 'c', ' ', 's', 'h', 'r', 'e', 'd', 's', ' ', 'a', 's', ' ', 'i', 't', ' ', 'w', 'e', 'r', 'e', 'p', 'g', ' ', 't', 'h', 'e', ' ', 'g', 'r', 'e', 'a', 't', ' ', 's', 'u', 'n', 's', 'p', 'o', 't', ' ', 'o', 'f', ' ', 'j', 'u', 'l', 'y', ' ', ' ', 's', 'h', 'o', 'w', 'i', 'n', 'g', ' ', 't', 'h', 'e', ' ', 'r', 'i', 'n', 'g', 's', ' ', 'm', 'i', 'g', 'h', 't', 'y', ' ', 's', 'w', 'a', 'r', 'm', 's', ' ', 'o', 'f', ' ', 'm', 'e', 't', 'e', 'o', 'r', 'i', 't', 'e', 's', ' ', 'd', 'r', 'a', 'w', 'i', 'n', 'g', ' ', 'b', 'y', ' ', 'p', 'r', 'o', 'f', ' ', 'l', 'o', 'w', 'e', 'l', 'l', ' ', 'm', 'a', 'd', 'e', ' ', 'j', 'a', 'n', 'u', 'a', 'r', 'y', ' ', ' ']\n",
            "x vector with counts:  OrderedDict([(' ', 498), ('a', 164), ('b', 32), ('c', 53), ('d', 57), ('e', 311), ('f', 55), ('g', 51), ('h', 140), ('i', 140), ('j', 3), ('k', 6), ('l', 85), ('m', 64), ('n', 139), ('o', 182), ('p', 53), ('q', 3), ('r', 141), ('s', 186), ('t', 225), ('u', 65), ('v', 31), ('w', 47), ('x', 4), ('y', 38), ('z', 2)])\n"
          ]
        }
      ]
    },
    {
      "cell_type": "markdown",
      "source": [
        "####part 5"
      ],
      "metadata": {
        "id": "HuYCUIr55gsn"
      }
    },
    {
      "cell_type": "code",
      "source": [
        "\n",
        "###\n",
        "####with logspace\n",
        "###\n",
        "\n",
        "def func_log_probab_likelihood(S, class_conditional_probability, x_dict):\n",
        "  log_probab_likelihood=0\n",
        "  theta_log=np.log(class_conditional_probability)\n",
        "  theta_dict = {k:v for k,v in zip(S,theta_log)}\n",
        "  for char in x_dict:\n",
        "    log_probab_likelihood+=(x_dict[char]*theta_dict[char])\n",
        "  return log_probab_likelihood\n",
        "\n",
        "\n",
        "log_probab_e = func_log_probab_likelihood(S, theta_e ,x_dict)\n",
        "log_probab_j = func_log_probab_likelihood(S, theta_j ,x_dict)\n",
        "log_probab_s = func_log_probab_likelihood(S, theta_s ,x_dict)\n",
        "\n",
        "print(\"log probability p(x|y=e): \",log_probab_e)\n",
        "print(\"log probability p(x|y=j): \",log_probab_j)\n",
        "print(\"log probability p(x|y=s): \",log_probab_s)"
      ],
      "metadata": {
        "colab": {
          "base_uri": "https://localhost:8080/"
        },
        "id": "vFOPvWSx1a1f",
        "outputId": "5b78e9e8-481d-4661-e837-c71c2f2d0e05"
      },
      "execution_count": 6,
      "outputs": [
        {
          "output_type": "stream",
          "name": "stdout",
          "text": [
            "log probability p(x|y=e):  -7841.865447060634\n",
            "log probability p(x|y=j):  -8771.433079075034\n",
            "log probability p(x|y=s):  -8467.282044010557\n"
          ]
        }
      ]
    },
    {
      "cell_type": "markdown",
      "source": [
        "####part 6"
      ],
      "metadata": {
        "id": "4Ihz8AN3QH34"
      }
    },
    {
      "cell_type": "code",
      "source": [
        "def func_posterior(prior, log_proab_likelihood):\n",
        "  return prior*log_proab_likelihood\n",
        "\n",
        "posterior_e = func_posterior(prior_e , log_probab_e)\n",
        "posterior_j = func_posterior(prior_j , log_probab_j)\n",
        "posterior_s = func_posterior(prior_s , log_probab_s)\n",
        "print(\"posterior log probability p(y=e | x): \", posterior_e)\n",
        "print(\"posterior log probability p(y=j | x): \", posterior_j)\n",
        "print(\"posterior log probability p(y=s | x): \", posterior_s)"
      ],
      "metadata": {
        "colab": {
          "base_uri": "https://localhost:8080/"
        },
        "id": "_oN0GJ9VKo-f",
        "outputId": "b4c9f172-0743-42d8-d1cc-4d4ca1e050c2"
      },
      "execution_count": 7,
      "outputs": [
        {
          "output_type": "stream",
          "name": "stdout",
          "text": [
            "posterior log probability p(y=e | x):  -2613.955149020211\n",
            "posterior log probability p(y=j | x):  -2923.8110263583444\n",
            "posterior log probability p(y=s | x):  -2822.427348003519\n"
          ]
        }
      ]
    },
    {
      "cell_type": "code",
      "source": [
        "def func_predict(posteriors):\n",
        "  index = np.argmax(posteriors)\n",
        "  if(index == 0):\n",
        "    return 'e'\n",
        "  elif(index == 1):\n",
        "    return 'j'\n",
        "  elif(index == 2):\n",
        "    return 's'\n",
        "\n",
        "pred = func_predict([posterior_e, posterior_j, posterior_s])\n",
        "print(\"predicted label of the test file (e10.txt): \", pred)\n"
      ],
      "metadata": {
        "colab": {
          "base_uri": "https://localhost:8080/"
        },
        "id": "bD7Ma6voC-Cl",
        "outputId": "f4e55b39-a36c-40b5-b634-cc222132a23b"
      },
      "execution_count": 8,
      "outputs": [
        {
          "output_type": "stream",
          "name": "stdout",
          "text": [
            "predicted label of the test file (e10.txt):  e\n"
          ]
        }
      ]
    },
    {
      "cell_type": "markdown",
      "source": [
        "####part 7"
      ],
      "metadata": {
        "id": "KVXBTgTp6A5Y"
      }
    },
    {
      "cell_type": "code",
      "source": [
        "def test_predictions(path, theta_e, theta_j, theta_s):\n",
        "  _ , test_labels, test_filenames = func_build_data(path, False)\n",
        "  pred_labels=[]\n",
        "  for each_file in test_filenames:\n",
        "    x, x_dict = func_xtest_count(each_file)\n",
        "    log_probab_e = func_log_probab_likelihood(S, theta_e ,x_dict)\n",
        "    log_probab_j = func_log_probab_likelihood(S, theta_j ,x_dict)\n",
        "    log_probab_s = func_log_probab_likelihood(S, theta_s ,x_dict)\n",
        "    posterior_e = func_posterior(prior_e , log_probab_e)\n",
        "    posterior_j = func_posterior(prior_j , log_probab_j)\n",
        "    posterior_s = func_posterior(prior_s , log_probab_s)\n",
        "    pred = func_predict([posterior_e, posterior_j, posterior_s])\n",
        "    pred_labels.append(pred)\n",
        "  return test_labels, pred_labels"
      ],
      "metadata": {
        "id": "HGD6l431S5QL"
      },
      "execution_count": 9,
      "outputs": []
    },
    {
      "cell_type": "code",
      "source": [
        "test, pred = test_predictions(path, theta_e, theta_j, theta_s)\n",
        "\n",
        "cm = confusion_matrix(test, pred,labels=['e', 'j', 's'])\n",
        "disp = ConfusionMatrixDisplay(confusion_matrix=cm, display_labels=['English', 'Japenese', 'Spanish'])\n",
        "\n",
        "disp.plot()\n",
        "plt.xlabel('Actual labels')\n",
        "plt.ylabel('Predicted labels')"
      ],
      "metadata": {
        "colab": {
          "base_uri": "https://localhost:8080/",
          "height": 300
        },
        "id": "rqClRUA0E8Nv",
        "outputId": "a0bed985-bab1-40a1-9afa-374a4b688e19"
      },
      "execution_count": 10,
      "outputs": [
        {
          "output_type": "execute_result",
          "data": {
            "text/plain": [
              "Text(0, 0.5, 'Predicted labels')"
            ]
          },
          "metadata": {},
          "execution_count": 10
        },
        {
          "output_type": "display_data",
          "data": {
            "text/plain": [
              "<Figure size 432x288 with 2 Axes>"
            ],
            "image/png": "[encoded data removed]"
          },
          "metadata": {
            "needs_background": "light"
          }
        }
      ]
    },
    {
      "cell_type": "markdown",
      "source": [
        "####part 8"
      ],
      "metadata": {
        "id": "sIf8J74ONV5o"
      }
    },
    {
      "cell_type": "code",
      "source": [
        "##shuffling document \n",
        "test_filename = 'j17.txt'\n",
        "x_test=list(open(path+test_filename).read())\n",
        "random.shuffle(x_test)\n",
        "x_test=list(filter(('\\n').__ne__, x_test))\n",
        "counts=Counter(x_test)\n",
        "x_test_dict = OrderedDict(sorted(counts.items()))\n",
        "log_probab_e = func_log_probab_likelihood(S, theta_e ,x_test_dict)\n",
        "log_probab_j = func_log_probab_likelihood(S, theta_j ,x_test_dict)\n",
        "log_probab_s = func_log_probab_likelihood(S, theta_s ,x_test_dict)\n",
        "posterior_e = func_posterior(prior_e , log_probab_e)\n",
        "posterior_j = func_posterior(prior_j , log_probab_j)\n",
        "posterior_s = func_posterior(prior_s , log_probab_s)\n",
        "pred = func_predict([posterior_e, posterior_j, posterior_s])\n",
        "print(\"predicted label of the random test file (j17.txt): \", pred)"
      ],
      "metadata": {
        "colab": {
          "base_uri": "https://localhost:8080/"
        },
        "id": "UmeojVwrNVZ8",
        "outputId": "55d27d6a-0e0b-4a1b-af44-a6f2a20d8c64"
      },
      "execution_count": 11,
      "outputs": [
        {
          "output_type": "stream",
          "name": "stdout",
          "text": [
            "predicted label of the random test file (j17.txt):  j\n"
          ]
        }
      ]
    },
    {
      "cell_type": "markdown",
      "source": [
        "##Question # 3"
      ],
      "metadata": {
        "id": "Tl56W-Wn0nLM"
      }
    },
    {
      "cell_type": "markdown",
      "source": [
        "####self implementation"
      ],
      "metadata": {
        "id": "miyPo8_XSevf"
      }
    },
    {
      "cell_type": "markdown",
      "source": [
        "#####Backprop implementation\n",
        "![image.png](data:image/png;base64,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)\n",
        "\n",
        "https://towardsdatascience.com/derivative-of-the-softmax-function-and-the-categorical-cross-entropy-loss-ffceefc081d1\n"
      ],
      "metadata": {
        "id": "XfBb0y7vtCiB"
      }
    },
    {
      "cell_type": "code",
      "source": [
        "import torchvision.datasets as datasets \n",
        "import torch as t\n",
        "import torchvision.transforms as transform\n",
        "import torch.nn as nn\n",
        "import matplotlib.pyplot as plt\n",
        "transform = transform.Compose([transform.ToTensor(), transform.Normalize((0.5,), (0.5,)),])\n",
        "mnist_trainset = datasets.MNIST(root='./data', train=True, download=True, transform=transform)\n",
        "train_loader = t.utils.data.DataLoader(mnist_trainset, batch_size=1, shuffle=True)\n",
        "\n",
        "mnist_testset = datasets.MNIST(root='./data', train=False, download=True, transform=transform)\n",
        "test_loader = t.utils.data.DataLoader(mnist_testset, batch_size=1, shuffle=True)"
      ],
      "metadata": {
        "colab": {
          "base_uri": "https://localhost:8080/",
          "height": 431,
          "referenced_widgets": [
            "6aaec473005c461f81ecde24b40f65db",
            "804f70cf82e442fe8ad9efd8a7f5061e",
            "3155409cccee4d6289fdd2f93dbcb575",
            "a34d2324984141ec9c08f0b1c83bf789",
            "0e7332ee182e4e5c919b4ea905253008",
            "e760aa5274cd4034aed3f26ef22062f9",
            "615894081454498b9bc8ad6d3b1be042",
            "47fe4ee9de534f269c601f6c53facc63",
            "53ee476e52bc41a184e380848bc32668",
            "477ebe4a1d3943c293a4b8132c333ddd",
            "069acb74dbeb4f2a882376f196c5bbcf",
            "b4cd4fce759040199c7abbf5d2e0a2fa",
            "9d3f34119d704177a497509787ddf122",
            "3aa87f9a62854ea7b0c5d938cf80f711",
            "cb6183aecbd5478482622b471cd285e4",
            "dd0e2f33687243dbafe0d0a7621069eb",
            "5830ba1e8f9c47a6a4b25c8ba7355f9e",
            "67d18613b30040e7b07b0b49fd5521a5",
            "1e0aa1cd83ca4f59ad76b2155bdfbb35",
            "065dcf2c9457464bb5dac9d36f26a0de",
            "3e74600dbe9445a2b1e8e57294a47724",
            "efd74b547ece4f0ca8ddcc8885bb3dfa",
            "10815d9ee1e34d3f829bc5bfc8086dd1",
            "dbb628bb054c45a1be00d48b8f9f59fe",
            "2c93932bc35842999135b0a71f8f5f99",
            "9dc05354a24d47a4b61eb82dcb0fc0de",
            "fa6ce393564341c5938b4b52393cfbb1",
            "26183a2ebb4e47809d4bf11655e6ce95",
            "5ed1bb7fe0b04a58a352edc5515c1c9a",
            "bb97223f0d1547389c320dba4fb52a27",
            "de481813e42e4be8aee89b88f534f9ff",
            "f626b9b5ae3c4324b950497452a4f7e6",
            "8f15b5da56494f4aab87279f69828b86",
            "4ada70fc93614c819dd9329132aa1746",
            "fc5bd790503f4548913dd79e41a54663",
            "79e754cc4f284ffc8c512c96239429cc",
            "fa933c47db144267be9f76597617b5f2",
            "ec3d69de2ddd44cea46956d6f7bc393c",
            "fa2a4ac4c14a450ea96d7b2fb68ba7f1",
            "7edce10b6e1548788799e3517a17de47",
            "66e10585532a46d999b82102ceb72b1b",
            "521ba7e89a3547f887917782bf089790",
            "f01f5b81cafb4e2a99d9aaf6660d1039",
            "84e2ac892ee1442b91304293da6bd871"
          ]
        },
        "id": "5IWqKerBiGaQ",
        "outputId": "192a06ba-3557-4fce-8bb6-2565d062071c"
      },
      "execution_count": null,
      "outputs": [
        {
          "output_type": "stream",
          "name": "stdout",
          "text": [
            "Downloading http://yann.lecun.com/exdb/mnist/train-images-idx3-ubyte.gz\n",
            "Downloading http://yann.lecun.com/exdb/mnist/train-images-idx3-ubyte.gz to ./data/MNIST/raw/train-images-idx3-ubyte.gz\n"
          ]
        },
        {
          "output_type": "display_data",
          "data": {
            "text/plain": [
              "  0%|          | 0/9912422 [00:00<?, ?it/s]"
            ],
            "application/vnd.jupyter.widget-view+json": {
              "version_major": 2,
              "version_minor": 0,
              "model_id": "6aaec473005c461f81ecde24b40f65db"
            }
          },
          "metadata": {}
        },
        {
          "output_type": "stream",
          "name": "stdout",
          "text": [
            "Extracting ./data/MNIST/raw/train-images-idx3-ubyte.gz to ./data/MNIST/raw\n",
            "\n",
            "Downloading http://yann.lecun.com/exdb/mnist/train-labels-idx1-ubyte.gz\n",
            "Downloading http://yann.lecun.com/exdb/mnist/train-labels-idx1-ubyte.gz to ./data/MNIST/raw/train-labels-idx1-ubyte.gz\n"
          ]
        },
        {
          "output_type": "display_data",
          "data": {
            "text/plain": [
              "  0%|          | 0/28881 [00:00<?, ?it/s]"
            ],
            "application/vnd.jupyter.widget-view+json": {
              "version_major": 2,
              "version_minor": 0,
              "model_id": "b4cd4fce759040199c7abbf5d2e0a2fa"
            }
          },
          "metadata": {}
        },
        {
          "output_type": "stream",
          "name": "stdout",
          "text": [
            "Extracting ./data/MNIST/raw/train-labels-idx1-ubyte.gz to ./data/MNIST/raw\n",
            "\n",
            "Downloading http://yann.lecun.com/exdb/mnist/t10k-images-idx3-ubyte.gz\n",
            "Downloading http://yann.lecun.com/exdb/mnist/t10k-images-idx3-ubyte.gz to ./data/MNIST/raw/t10k-images-idx3-ubyte.gz\n"
          ]
        },
        {
          "output_type": "display_data",
          "data": {
            "text/plain": [
              "  0%|          | 0/1648877 [00:00<?, ?it/s]"
            ],
            "application/vnd.jupyter.widget-view+json": {
              "version_major": 2,
              "version_minor": 0,
              "model_id": "10815d9ee1e34d3f829bc5bfc8086dd1"
            }
          },
          "metadata": {}
        },
        {
          "output_type": "stream",
          "name": "stdout",
          "text": [
            "Extracting ./data/MNIST/raw/t10k-images-idx3-ubyte.gz to ./data/MNIST/raw\n",
            "\n",
            "Downloading http://yann.lecun.com/exdb/mnist/t10k-labels-idx1-ubyte.gz\n",
            "Downloading http://yann.lecun.com/exdb/mnist/t10k-labels-idx1-ubyte.gz to ./data/MNIST/raw/t10k-labels-idx1-ubyte.gz\n"
          ]
        },
        {
          "output_type": "display_data",
          "data": {
            "text/plain": [
              "  0%|          | 0/4542 [00:00<?, ?it/s]"
            ],
            "application/vnd.jupyter.widget-view+json": {
              "version_major": 2,
              "version_minor": 0,
              "model_id": "4ada70fc93614c819dd9329132aa1746"
            }
          },
          "metadata": {}
        },
        {
          "output_type": "stream",
          "name": "stdout",
          "text": [
            "Extracting ./data/MNIST/raw/t10k-labels-idx1-ubyte.gz to ./data/MNIST/raw\n",
            "\n"
          ]
        }
      ]
    },
    {
      "cell_type": "code",
      "source": [
        "train_images=[]\n",
        "train_labels=[]\n",
        "\n",
        "for images, labels in train_loader:\n",
        "  image = images.reshape(images.shape[0],-1)\n",
        "  image = image.numpy()\n",
        "  train_images.append(image)\n",
        "  labels = labels.numpy()\n",
        "  train_labels.append(labels)\n",
        "\n",
        "\n",
        "test_images=[]\n",
        "test_labels=[]\n",
        "\n",
        "for images, labels in test_loader:\n",
        "  image = images.reshape(images.shape[0],-1)\n",
        "  image = image.numpy()\n",
        "  test_images.append(image)\n",
        "  labels = labels.numpy()\n",
        "  test_labels.append(labels)\n",
        "\n",
        "\n"
      ],
      "metadata": {
        "id": "eIGNhfXOiM1j"
      },
      "execution_count": null,
      "outputs": []
    },
    {
      "cell_type": "code",
      "execution_count": null,
      "metadata": {
        "colab": {
          "base_uri": "https://localhost:8080/"
        },
        "id": "1g0eKPhQhkGQ",
        "outputId": "060a6a01-6fc9-40da-a78b-a79d7bcf634a"
      },
      "outputs": [
        {
          "output_type": "stream",
          "name": "stdout",
          "text": [
            "10000 60000\n"
          ]
        }
      ],
      "source": [
        "print(len(test_images), len(train_images))\n"
      ]
    },
    {
      "cell_type": "code",
      "source": [
        "import numpy as np\n",
        "test_labels=np.array(test_labels)\n",
        "train_labels=np.array(train_labels)\n",
        "train_images = np.array(train_images)\n",
        "test_images = np.array(test_images)"
      ],
      "metadata": {
        "id": "5j9DyYL5qS1B"
      },
      "execution_count": null,
      "outputs": []
    },
    {
      "cell_type": "code",
      "source": [
        "def one_hot(y):\n",
        "  table = np.zeros((y.shape[0], 10))\n",
        "  for i in range(y.shape[0]):\n",
        "    table[i][int(y[i][0])] = 1\n",
        "  return table\n",
        "\n",
        "train_labels=one_hot(train_labels)\n",
        "test_labels=one_hot(test_labels)"
      ],
      "metadata": {
        "id": "MCCdlvoMpaDt"
      },
      "execution_count": null,
      "outputs": []
    },
    {
      "cell_type": "code",
      "source": [
        "test_images= test_images.reshape(test_images.shape[0], test_images.shape[2])\n",
        "train_images= train_images.reshape(train_images.shape[0], train_images.shape[2])"
      ],
      "metadata": {
        "id": "GTVrg1NHtPRV"
      },
      "execution_count": null,
      "outputs": []
    },
    {
      "cell_type": "code",
      "source": [
        "import pandas as pd\n",
        "df1 = pd.DataFrame()\n",
        "df2 = pd.DataFrame()\n",
        "train_df = pd.concat([df1, pd.DataFrame(train_images)], axis=1)\n",
        "test_df = pd.concat([df2, pd.DataFrame(test_images)], axis=1)"
      ],
      "metadata": {
        "id": "gKC4RJItr36S"
      },
      "execution_count": null,
      "outputs": []
    },
    {
      "cell_type": "code",
      "source": [
        "import numpy as np\n",
        "class NeuralNetwork:\n",
        "    def __init__(self, X, y, batch = 1, lr = 1e-2,  epochs = 25):\n",
        "        self.input = X \n",
        "        self.target = y\n",
        "        self.batch = batch\n",
        "        self.epochs = epochs\n",
        "        self.lr = lr\n",
        "        \n",
        "        self.x = self.input[:self.batch] # batch input \n",
        "        self.y = self.target[:self.batch] # batch target value\n",
        "        self.loss = []\n",
        "        self.acc = []\n",
        "        \n",
        "        self.init_weights()\n",
        "      \n",
        "    def init_weights(self):\n",
        "        self.W1 = np.random.randn(self.input.shape[1],300)\n",
        "        self.W2 = np.random.randn(self.W1.shape[1],200)\n",
        "        self.W3 = np.random.randn(self.W2.shape[1],self.y.shape[1])\n",
        "\n",
        "\n",
        "    def ReLU(self, x):\n",
        "        return np.maximum(0,x)\n",
        "\n",
        "    def dReLU(self,x):\n",
        "        return 1 * (x > 0)\n",
        "\n",
        "    def Sigmoid(self, x):\n",
        "        return 1/(np.exp(-x)+1) \n",
        "\n",
        "    def dSigmoid(self,x):\n",
        "        return (np.exp(-x))/((np.exp(-x)+1)**2)\n",
        "    \n",
        "    def softmax(self, z):\n",
        "        z = z - np.max(z, axis = 1).reshape(z.shape[0],1)\n",
        "        return np.exp(z) / np.sum(np.exp(z), axis = 1).reshape(z.shape[0],1)\n",
        "    \n",
        "    def shuffle(self):\n",
        "        idx = [i for i in range(self.input.shape[0])]\n",
        "        np.random.shuffle(idx)\n",
        "        self.input = self.input[idx]\n",
        "        self.target = self.target[idx]\n",
        "        \n",
        "    def feedforward(self):\n",
        "        assert self.x.shape[1] == self.W1.shape[0]\n",
        "        self.z1 = self.x.dot(self.W1)\n",
        "        self.a1 = self.Sigmoid(self.z1)\n",
        "\n",
        "        assert self.a1.shape[1] == self.W2.shape[0]\n",
        "        self.z2 = self.a1.dot(self.W2)\n",
        "        self.a2 = self.Sigmoid(self.z2)\n",
        "\n",
        "        assert self.a2.shape[1] == self.W3.shape[0]\n",
        "        self.z3 = self.a2.dot(self.W3)\n",
        "        self.a3 = self.softmax(self.z3)\n",
        "        self.error = self.a3 - self.y\n",
        "\n",
        "        \n",
        "    def backprop(self):\n",
        "        dcost = (1/self.batch)*self.error\n",
        "        \n",
        "        DW3 = np.dot(dcost.T,self.a2).T\n",
        "        DW2 = np.dot((np.dot((dcost),self.W3.T) * self.Sigmoid(self.z2)).T,self.a1).T\n",
        "        DW1 = np.dot((np.dot(np.dot((dcost),self.W3.T)*self.dSigmoid(self.z2),self.W2.T)*self.dSigmoid(self.z1)).T,self.x).T\n",
        "\n",
        "        db3 = np.sum(dcost,axis = 0)\n",
        "        db2 = np.sum(np.dot((dcost),self.W3.T) * self.dSigmoid(self.z2),axis = 0)\n",
        "        db1 = np.sum((np.dot(np.dot((dcost),self.W3.T)*self.dSigmoid(self.z2),self.W2.T)*self.dSigmoid(self.z1)),axis = 0)\n",
        "        \n",
        "        assert DW3.shape == self.W3.shape\n",
        "        assert DW2.shape == self.W2.shape\n",
        "        assert DW1.shape == self.W1.shape\n",
        "\n",
        "        \n",
        "        self.W3 = self.W3 - self.lr * DW3\n",
        "        self.W2 = self.W2 - self.lr * DW2\n",
        "        self.W1 = self.W1 - self.lr * DW1\n",
        "\n",
        "\n",
        "    def train(self):\n",
        "        for epoch in range(self.epochs):\n",
        "            print(\"Epoch # \", epoch)\n",
        "            l = 0\n",
        "            acc = 0\n",
        "            self.shuffle()\n",
        "            \n",
        "            for batch in range(self.input.shape[0]):\n",
        "                start = batch*self.batch\n",
        "                end = (batch+1)*self.batch\n",
        "                self.x = self.input[start:end]\n",
        "                self.y = self.target[start:end]\n",
        "                self.feedforward()\n",
        "                self.backprop()\n",
        "                l+=np.mean(self.error**2)\n",
        "                acc+= np.count_nonzero(np.argmax(self.a3,axis=1) == np.argmax(self.y,axis=1)) / self.batch\n",
        "                \n",
        "            self.loss.append(l/(self.input.shape[0]//self.batch))\n",
        "            self.acc.append(acc*100/(self.input.shape[0]//self.batch))\n",
        "            print(\"Loss after epoch # \", epoch, \" : \", self.loss[-1])\n",
        "            print(\"Accuracy after epoch # \", epoch, \" : \", self.acc[-1])\n",
        "            \n",
        "    def plot(self):\n",
        "        plt.figure(dpi = 125)\n",
        "        plt.plot(self.loss)\n",
        "        plt.xlabel(\"Epochs\")\n",
        "        plt.ylabel(\"Loss\")\n",
        "    \n",
        "    def acc_plot(self):\n",
        "        plt.figure(dpi = 125)\n",
        "        plt.plot(self.acc)\n",
        "        plt.xlabel(\"Epochs\")\n",
        "        plt.ylabel(\"Accuracy\")\n",
        "        \n",
        "    def test(self,xtest,ytest):\n",
        "        self.x = xtest\n",
        "        self.y = ytest\n",
        "        self.feedforward()\n",
        "        acc = np.count_nonzero(np.argmax(self.a3,axis=1) == np.argmax(self.y,axis=1)) / self.x.shape[0]\n",
        "        loss = np.count_zero(np.argmax(self.a3,axis=1) == np.argmax(self.y,axis=1)) / self.x.shape[0]\n",
        "        print(\"Test Accuracy:\", 100 * acc, \"%\")\n",
        "        print(\"Test Loss:\", 100 * loss, \"%\")\n",
        "    \n",
        "        \n",
        "        \n",
        "NN = NeuralNetwork(train_images,train_labels) \n",
        "NN.train()\n",
        "NN.plot()\n",
        "NN.test(test_images,test_labels)\n",
        "NN.acc_plot()\n"
      ],
      "metadata": {
        "id": "qzSKKrWPhzI0",
        "colab": {
          "base_uri": "https://localhost:8080/",
          "height": 1000
        },
        "outputId": "fea1ac6c-e14c-4e9d-a723-ce6d2e08bdd4"
      },
      "execution_count": null,
      "outputs": [
        {
          "output_type": "stream",
          "name": "stdout",
          "text": [
            "Epoch #  0\n",
            "Loss after epoch #  0  :  0.03183607773368656\n",
            "Accuracy after epoch #  0  :  77.31833333333333\n",
            "Epoch #  1\n",
            "Loss after epoch #  1  :  0.01945802320737459\n",
            "Accuracy after epoch #  1  :  86.78666666666666\n",
            "Epoch #  2\n",
            "Loss after epoch #  2  :  0.01692598757021161\n",
            "Accuracy after epoch #  2  :  88.6\n",
            "Epoch #  3\n",
            "Loss after epoch #  3  :  0.015656966508947087\n",
            "Accuracy after epoch #  3  :  89.52333333333333\n",
            "Epoch #  4\n",
            "Loss after epoch #  4  :  0.014743160466507015\n",
            "Accuracy after epoch #  4  :  90.07166666666667\n",
            "Epoch #  5\n",
            "Loss after epoch #  5  :  0.014220740179496564\n",
            "Accuracy after epoch #  5  :  90.53333333333333\n",
            "Epoch #  6\n",
            "Loss after epoch #  6  :  0.013887928440177388\n",
            "Accuracy after epoch #  6  :  90.725\n",
            "Epoch #  7\n",
            "Loss after epoch #  7  :  0.013448183857617702\n",
            "Accuracy after epoch #  7  :  91.05\n",
            "Epoch #  8\n",
            "Loss after epoch #  8  :  0.012764475149834403\n",
            "Accuracy after epoch #  8  :  91.38166666666666\n",
            "Epoch #  9\n",
            "Loss after epoch #  9  :  0.012017855510944586\n",
            "Accuracy after epoch #  9  :  91.92833333333333\n",
            "Epoch #  10\n",
            "Loss after epoch #  10  :  0.011373928127802182\n",
            "Accuracy after epoch #  10  :  92.47333333333333\n",
            "Epoch #  11\n",
            "Loss after epoch #  11  :  0.011801484690694993\n",
            "Accuracy after epoch #  11  :  92.10833333333333\n",
            "Epoch #  12\n",
            "Loss after epoch #  12  :  0.010936108236301537\n",
            "Accuracy after epoch #  12  :  92.67833333333333\n",
            "Epoch #  13\n",
            "Loss after epoch #  13  :  0.010785717545283803\n",
            "Accuracy after epoch #  13  :  92.82\n",
            "Epoch #  14\n",
            "Loss after epoch #  14  :  0.010618859098066943\n",
            "Accuracy after epoch #  14  :  92.915\n",
            "Epoch #  15\n",
            "Loss after epoch #  15  :  0.010259532168693918\n",
            "Accuracy after epoch #  15  :  93.20833333333333\n",
            "Epoch #  16\n",
            "Loss after epoch #  16  :  0.00996275657370808\n",
            "Accuracy after epoch #  16  :  93.40333333333334\n",
            "Epoch #  17\n",
            "Loss after epoch #  17  :  0.009955815742877865\n",
            "Accuracy after epoch #  17  :  93.44166666666666\n",
            "Epoch #  18\n",
            "Loss after epoch #  18  :  0.00980960604223233\n",
            "Accuracy after epoch #  18  :  93.52\n",
            "Epoch #  19\n",
            "Loss after epoch #  19  :  0.009668783226138311\n",
            "Accuracy after epoch #  19  :  93.62833333333333\n",
            "Epoch #  20\n",
            "Loss after epoch #  20  :  0.009542573576850873\n",
            "Accuracy after epoch #  20  :  93.59333333333333\n",
            "Epoch #  21\n",
            "Loss after epoch #  21  :  0.00934602888110553\n",
            "Accuracy after epoch #  21  :  93.8\n",
            "Epoch #  22\n",
            "Loss after epoch #  22  :  0.009387063174963375\n",
            "Accuracy after epoch #  22  :  93.76333333333334\n",
            "Epoch #  23\n",
            "Loss after epoch #  23  :  0.009052147475365344\n",
            "Accuracy after epoch #  23  :  93.95\n",
            "Epoch #  24\n",
            "Loss after epoch #  24  :  0.008976234347328766\n",
            "Accuracy after epoch #  24  :  94.055\n",
            "Accuracy: 93.60000000000001 %\n"
          ]
        },
        {
          "output_type": "display_data",
          "data": {
            "text/plain": [
              "<Figure size 750x500 with 1 Axes>"
            ],
            "image/png": "[encoded data removed]"
          },
          "metadata": {
            "needs_background": "light"
          }
        },
        {
          "output_type": "display_data",
          "data": {
            "text/plain": [
              "<Figure size 750x500 with 1 Axes>"
            ],
            "image/png": "[encoded data removed]"
          },
          "metadata": {
            "needs_background": "light"
          }
        }
      ]
    },
    {
      "cell_type": "markdown",
      "source": [
        "####Library Implementation"
      ],
      "metadata": {
        "id": "FQyS_I43Sqlx"
      }
    },
    {
      "cell_type": "code",
      "source": [
        "# acquire MNIST data\n",
        "from tensorflow.keras.datasets import mnist\n",
        "import numpy as np\n",
        "import tensorflow as tf\n",
        "np.random.seed(42)\n",
        "tf.random.set_seed(42)\n",
        "(train_images, train_labels), (test_images, test_labels) = mnist.load_data()\n",
        "\n",
        "# reshape data for an MLP input\n",
        "import numpy as np\n",
        "\n",
        "train_images = np.reshape(train_images, (-1, 784))\n",
        "test_images = np.reshape(test_images, (-1, 784))\n",
        "\n",
        "# normalize data\n",
        "train_images = train_images.astype('float32') / 255\n",
        "test_images = test_images.astype('float32') / 255\n",
        "\n",
        "# convert labels to a one-hot vector\n",
        "from tensorflow.keras.utils import to_categorical\n",
        "\n",
        "train_labels = to_categorical(train_labels)\n",
        "test_labels = to_categorical(test_labels)"
      ],
      "metadata": {
        "colab": {
          "base_uri": "https://localhost:8080/"
        },
        "id": "6fwwtI7IvuCj",
        "outputId": "f9750b23-1caa-4ed9-a3dd-66ee1f218f71"
      },
      "execution_count": 86,
      "outputs": [
        {
          "output_type": "stream",
          "name": "stdout",
          "text": [
            "Downloading data from https://storage.googleapis.com/tensorflow/tf-keras-datasets/mnist.npz\n",
            "11490434/11490434 [==============================] - 0s 0us/step\n"
          ]
        }
      ]
    },
    {
      "cell_type": "code",
      "source": [
        "# define network architecture\n",
        "from tensorflow.keras.models import Sequential\n",
        "from tensorflow.keras.layers import InputLayer\n",
        "from tensorflow.keras.layers import Dense\n",
        "\n",
        "MLP = Sequential()\n",
        "MLP.add(InputLayer(input_shape=(784, ))) # input layer\n",
        "MLP.add(Dense(300, activation='sigmoid')) # hidden layer 1\n",
        "MLP.add(Dense(200, activation='sigmoid')) # hidden layer 2\n",
        "MLP.add(Dense(10, activation='softmax')) # output layer\n",
        "\n",
        "# summary\n",
        "MLP.summary()"
      ],
      "metadata": {
        "colab": {
          "base_uri": "https://localhost:8080/"
        },
        "id": "Z6YYOv51vuFf",
        "outputId": "3102e923-9610-4fee-ed96-e11e8a4e3d29"
      },
      "execution_count": 88,
      "outputs": [
        {
          "output_type": "stream",
          "name": "stdout",
          "text": [
            "Model: \"sequential_1\"\n",
            "_________________________________________________________________\n",
            " Layer (type)                Output Shape              Param #   \n",
            "=================================================================\n",
            " dense_3 (Dense)             (None, 300)               235500    \n",
            "                                                                 \n",
            " dense_4 (Dense)             (None, 200)               60200     \n",
            "                                                                 \n",
            " dense_5 (Dense)             (None, 10)                2010      \n",
            "                                                                 \n",
            "=================================================================\n",
            "Total params: 297,710\n",
            "Trainable params: 297,710\n",
            "Non-trainable params: 0\n",
            "_________________________________________________________________\n"
          ]
        }
      ]
    },
    {
      "cell_type": "code",
      "source": [
        "# optimization\n",
        "MLP.compile(loss='categorical_crossentropy',\n",
        "            optimizer='SGD',\n",
        "            metrics=['accuracy'])"
      ],
      "metadata": {
        "id": "nSGy-Zx0vuII"
      },
      "execution_count": 90,
      "outputs": []
    },
    {
      "cell_type": "code",
      "source": [
        "history = MLP.fit(train_images, train_labels, \n",
        "        epochs=20, batch_size=32)"
      ],
      "metadata": {
        "colab": {
          "base_uri": "https://localhost:8080/"
        },
        "id": "BuJxXtAxvuKv",
        "outputId": "39cad29a-cc28-4688-d903-d173c950766f"
      },
      "execution_count": 114,
      "outputs": [
        {
          "output_type": "stream",
          "name": "stdout",
          "text": [
            "Epoch 1/20\n",
            "1875/1875 [==============================] - 7s 3ms/step - loss: 0.3499 - accuracy: 0.9008\n",
            "Epoch 2/20\n",
            "1875/1875 [==============================] - 7s 4ms/step - loss: 0.3394 - accuracy: 0.9029\n",
            "Epoch 3/20\n",
            "1875/1875 [==============================] - 7s 4ms/step - loss: 0.3307 - accuracy: 0.9056\n",
            "Epoch 4/20\n",
            "1875/1875 [==============================] - 7s 4ms/step - loss: 0.3230 - accuracy: 0.9073\n",
            "Epoch 5/20\n",
            "1875/1875 [==============================] - 10s 5ms/step - loss: 0.3167 - accuracy: 0.9086\n",
            "Epoch 6/20\n",
            "1875/1875 [==============================] - 9s 5ms/step - loss: 0.3106 - accuracy: 0.9109\n",
            "Epoch 7/20\n",
            "1875/1875 [==============================] - 7s 3ms/step - loss: 0.3050 - accuracy: 0.9122\n",
            "Epoch 8/20\n",
            "1875/1875 [==============================] - 9s 5ms/step - loss: 0.3004 - accuracy: 0.9132\n",
            "Epoch 9/20\n",
            "1875/1875 [==============================] - 10s 5ms/step - loss: 0.2958 - accuracy: 0.9146\n",
            "Epoch 10/20\n",
            "1875/1875 [==============================] - 8s 4ms/step - loss: 0.2913 - accuracy: 0.9156\n",
            "Epoch 11/20\n",
            "1875/1875 [==============================] - 6s 3ms/step - loss: 0.2875 - accuracy: 0.9168\n",
            "Epoch 12/20\n",
            "1875/1875 [==============================] - 7s 4ms/step - loss: 0.2838 - accuracy: 0.9177\n",
            "Epoch 13/20\n",
            "1875/1875 [==============================] - 6s 3ms/step - loss: 0.2803 - accuracy: 0.9184\n",
            "Epoch 14/20\n",
            "1875/1875 [==============================] - 7s 4ms/step - loss: 0.2768 - accuracy: 0.9192\n",
            "Epoch 15/20\n",
            "1875/1875 [==============================] - 6s 3ms/step - loss: 0.2736 - accuracy: 0.9206\n",
            "Epoch 16/20\n",
            "1875/1875 [==============================] - 7s 4ms/step - loss: 0.2703 - accuracy: 0.9217\n",
            "Epoch 17/20\n",
            "1875/1875 [==============================] - 6s 3ms/step - loss: 0.2673 - accuracy: 0.9220\n",
            "Epoch 18/20\n",
            "1875/1875 [==============================] - 7s 4ms/step - loss: 0.2642 - accuracy: 0.9230\n",
            "Epoch 19/20\n",
            "1875/1875 [==============================] - 6s 3ms/step - loss: 0.2613 - accuracy: 0.9237\n",
            "Epoch 20/20\n",
            "1875/1875 [==============================] - 7s 3ms/step - loss: 0.2587 - accuracy: 0.9245\n"
          ]
        }
      ]
    },
    {
      "cell_type": "code",
      "source": [
        "\n",
        "plt.title('Cross Entropy Loss')\n",
        "plt.plot(history.history['loss'], color='blue', label='train')\n",
        "plt.show()\n",
        "plt.title('Classification Accuracy')\n",
        "plt.plot(history.history['accuracy'], color='blue', label='train')\n",
        "#plt.plot(histories.history['val_accuracy'], color='orange', label='test')\n",
        "plt.show()"
      ],
      "metadata": {
        "colab": {
          "base_uri": "https://localhost:8080/",
          "height": 545
        },
        "id": "EME_T_2bxAMT",
        "outputId": "e6fdf9c5-b08f-45a5-ae0e-6dec2123d04e"
      },
      "execution_count": 115,
      "outputs": [
        {
          "output_type": "display_data",
          "data": {
            "text/plain": [
              "<Figure size 432x288 with 1 Axes>"
            ],
            "image/png": "[encoded data removed]"
          },
          "metadata": {
            "needs_background": "light"
          }
        },
        {
          "output_type": "display_data",
          "data": {
            "text/plain": [
              "<Figure size 432x288 with 1 Axes>"
            ],
            "image/png": "[encoded data removed]"
          },
          "metadata": {
            "needs_background": "light"
          }
        }
      ]
    },
    {
      "cell_type": "code",
      "source": [
        "# evaluate performance\n",
        "test_loss, test_acc = MLP.evaluate(test_images, test_labels,\n",
        "                                   batch_size=64,\n",
        "                                   verbose=0)\n",
        "print(\"Test loss:\", test_loss)\n",
        "print(\"Test accuracy:\", test_acc)"
      ],
      "metadata": {
        "colab": {
          "base_uri": "https://localhost:8080/"
        },
        "id": "lkDgMhGpvuNW",
        "outputId": "8b54759c-66a6-4f1f-adc8-fc7a689d9bd0"
      },
      "execution_count": 116,
      "outputs": [
        {
          "output_type": "stream",
          "name": "stdout",
          "text": [
            "Test loss: 0.25232836604118347\n",
            "Test accuracy: 0.9265000224113464\n"
          ]
        }
      ]
    }
  ]
}